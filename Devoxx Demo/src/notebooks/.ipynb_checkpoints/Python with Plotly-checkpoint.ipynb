{
 "cells": [
  {
   "cell_type": "code",
   "execution_count": 13,
   "metadata": {
    "collapsed": false
   },
   "outputs": [
    {
     "data": {
      "text/html": [
       "<script>requirejs.config({paths: { 'plotly': ['https://cdn.plot.ly/plotly-latest.min']},});if(!window.Plotly) {{require(['plotly'],function(plotly) {window.Plotly=plotly;});}}</script>"
      ],
      "text/plain": [
       "<IPython.core.display.HTML object>"
      ]
     },
     "metadata": {},
     "output_type": "display_data"
    },
    {
     "data": {
      "text/html": [
       "<div id=\"5f16e277-ec3f-4307-97d4-ed2d72f55ba7\" style=\"height: 525px; width: 100%;\" class=\"plotly-graph-div\"></div><script type=\"text/javascript\">require([\"plotly\"], function(Plotly) { window.PLOTLYENV=window.PLOTLYENV || {};window.PLOTLYENV.BASE_URL=\"https://plot.ly\";Plotly.newPlot(\"5f16e277-ec3f-4307-97d4-ed2d72f55ba7\", [{\"showlegend\": true, \"text\": \"line\", \"y\": [1, 3, 6], \"x\": [\"2013-10-04\", \"2013-11-05\", \"2013-12-06\"], \"line\": {\"width\": 6}, \"type\": \"scatter\"}], {\"title\": \"simple example\", \"paper_bgcolor\": \"#323a48\", \"plot_bgcolor\": \"#323a48\", \"yaxis\": {\"color\": \"#cdd2e9\"}, \"xaxis\": {\"color\": \"#cdd2e9\"}, \"font\": {\"color\": \"#cdd2e9\"}}, {\"linkText\": \"Export to plot.ly\", \"showLink\": false})});</script>"
      ],
      "text/plain": [
       "<IPython.core.display.HTML object>"
      ]
     },
     "metadata": {},
     "output_type": "display_data"
    }
   ],
   "source": [
    "from plotly.offline import download_plotlyjs, init_notebook_mode, plot, iplot\n",
    "import plotly.graph_objs as go\n",
    "\n",
    "init_notebook_mode(connected=True)\n",
    "\n",
    "from datetime import datetime\n",
    "x = [datetime(year=2013, month=10, day=04),\n",
    "     datetime(year=2013, month=11, day=05),\n",
    "     datetime(year=2013, month=12, day=06)]\n",
    "\n",
    "data = [go.Scatter(x=x,y=[1, 3, 6], showlegend=True, text=\"line\", line=dict(width=6))]\n",
    "iplot(go.Figure(data=data, layout=go.Layout(title=\"simple example\", \n",
    "                                            paper_bgcolor=\"#323a48\", \n",
    "                                            plot_bgcolor=\"#323a48\", \n",
    "                                            font=dict(color=\"#cdd2e9\"),\n",
    "                                            xaxis=dict(color=\"#cdd2e9\"),\n",
    "                                            yaxis=dict(color=\"#cdd2e9\") )), show_link=False)\n",
    "\n",
    "#plot(data, include_plotlyjs=False, output_type='div')\n",
    "#plot(data, filename=\"demo-plotly.html\")\n",
    "with open(\"demo-plotly.html\", \"w\") as text_file:\n",
    "    text_file.write(plot(data, show_link=False, include_plotlyjs=False, output_type='div'))"
   ]
  },
  {
   "cell_type": "code",
   "execution_count": 5,
   "metadata": {
    "collapsed": false
   },
   "outputs": [
    {
     "name": "stdout",
     "output_type": "stream",
     "text": [
      "Help on function iplot in module plotly.offline.offline:\n",
      "\n",
      "iplot(figure_or_data, show_link=True, link_text='Export to plot.ly', validate=True, image=None, filename='plot_image', image_width=800, image_height=600)\n",
      "    Draw plotly graphs inside an IPython notebook without\n",
      "    connecting to an external server.\n",
      "    To save the chart to Plotly Cloud or Plotly Enterprise, use\n",
      "    `plotly.plotly.iplot`.\n",
      "    To embed an image of the chart, use `plotly.image.ishow`.\n",
      "    \n",
      "    figure_or_data -- a plotly.graph_objs.Figure or plotly.graph_objs.Data or\n",
      "                      dict or list that describes a Plotly graph.\n",
      "                      See https://plot.ly/python/ for examples of\n",
      "                      graph descriptions.\n",
      "    \n",
      "    Keyword arguments:\n",
      "    show_link (default=True) -- display a link in the bottom-right corner of\n",
      "                                of the chart that will export the chart to\n",
      "                                Plotly Cloud or Plotly Enterprise\n",
      "    link_text (default='Export to plot.ly') -- the text of export link\n",
      "    validate (default=True) -- validate that all of the keys in the figure\n",
      "                               are valid? omit if your version of plotly.js\n",
      "                               has become outdated with your version of\n",
      "                               graph_reference.json or if you need to include\n",
      "                               extra, unnecessary keys in your figure.\n",
      "    image (default=None |'png' |'jpeg' |'svg' |'webp') -- This parameter sets\n",
      "        the format of the image to be downloaded, if we choose to download an\n",
      "        image. This parameter has a default value of None indicating that no\n",
      "        image should be downloaded. Please note: for higher resolution images\n",
      "        and more export options, consider making requests to our image servers.\n",
      "        Type: `help(py.image)` for more details.\n",
      "    filename (default='plot') -- Sets the name of the file your image\n",
      "        will be saved to. The extension should not be included.\n",
      "    image_height (default=600) -- Specifies the height of the image in `px`.\n",
      "    image_width (default=800) -- Specifies the width of the image in `px`.\n",
      "    \n",
      "    Example:\n",
      "    ```\n",
      "    from plotly.offline import init_notebook_mode, iplot\n",
      "    init_notebook_mode()\n",
      "    iplot([{'x': [1, 2, 3], 'y': [5, 2, 7]}])\n",
      "    # We can also download an image of the plot by setting the image to the\n",
      "    format you want. e.g. `image='png'`\n",
      "    iplot([{'x': [1, 2, 3], 'y': [5, 2, 7]}], image='png')\n",
      "    ```\n",
      "\n"
     ]
    }
   ],
   "source": [
    "help(iplot)"
   ]
  },
  {
   "cell_type": "code",
   "execution_count": null,
   "metadata": {
    "collapsed": true
   },
   "outputs": [],
   "source": []
  }
 ],
 "metadata": {
  "kernelspec": {
   "display_name": "Python 2",
   "language": "python",
   "name": "python2"
  },
  "language_info": {
   "codemirror_mode": {
    "name": "ipython",
    "version": 2
   },
   "file_extension": ".py",
   "mimetype": "text/x-python",
   "name": "python",
   "nbconvert_exporter": "python",
   "pygments_lexer": "ipython2",
   "version": "2.7.13"
  }
 },
 "nbformat": 4,
 "nbformat_minor": 2
}
