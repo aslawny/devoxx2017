{
 "cells": [
  {
   "cell_type": "markdown",
   "metadata": {},
   "source": [
    "# Elite Dangerous\n",
    "\n",
    "Get the data from https://eddb.io/api\n",
    "\n",
    "### Find the cheapest beer of the galaxy !!!\n",
    "\n",
    "![](img/Elite Dangerous Tiles3.png)\n",
    "\n",
    "![](img/Milky Way.png)"
   ]
  },
  {
   "cell_type": "markdown",
   "metadata": {},
   "source": [
    "# 1. Load the Data"
   ]
  },
  {
   "cell_type": "code",
   "execution_count": 6,
   "metadata": {
    "collapsed": false
   },
   "outputs": [
    {
     "data": {
      "text/html": [
       "<script>requirejs.config({paths: { 'plotly': ['https://cdn.plot.ly/plotly-latest.min']},});if(!window.Plotly) {{require(['plotly'],function(plotly) {window.Plotly=plotly;});}}</script>"
      ],
      "text/plain": [
       "<IPython.core.display.HTML object>"
      ]
     },
     "metadata": {},
     "output_type": "display_data"
    },
    {
     "data": {
      "text/html": [
       "<a href=\"http://beebox01.localdomain:8088/proxy/application_1491123822338_0002\" target=\"_blank\">http://beebox01.localdomain:8088/proxy/application_1491123822338_0002</a>"
      ],
      "text/plain": [
       "<IPython.core.display.HTML object>"
      ]
     },
     "metadata": {},
     "output_type": "display_data"
    }
   ],
   "source": [
    "from plotly.offline import download_plotlyjs, init_notebook_mode, plot, iplot\n",
    "import plotly.graph_objs as go\n",
    "import plotly.figure_factory as ff\n",
    "\n",
    "init_notebook_mode(connected=True)\n",
    "\n",
    "# keep the same chart layout\n",
    "layout = go.Layout(paper_bgcolor=\"#323a48\",\n",
    "                   plot_bgcolor=\"#323a48\",\n",
    "                   font=dict(color=\"#cdd2e9\"),\n",
    "                   xaxis=dict(color=\"#cdd2e9\"),\n",
    "                   yaxis=dict(color=\"#cdd2e9\"))\n",
    "\n",
    "# get the application Id and print the tracking URL\n",
    "applicationId = sc._jsc.sc().applicationId()\n",
    "trackingUrl = 'http://beebox01.localdomain:8088/proxy/'+applicationId\n",
    "\n",
    "from IPython.core.display import display, HTML\n",
    "display(HTML('<a href=\"'+trackingUrl+'\" target=\"_blank\">'+trackingUrl+'</a>'))"
   ]
  },
  {
   "cell_type": "code",
   "execution_count": 3,
   "metadata": {
    "collapsed": false
   },
   "outputs": [],
   "source": [
    "# Load stations\n",
    "pathStations = \"/user/mathias/stations.jsonl\"\n",
    "stations = sqlContext.read.json(pathStations)\n",
    "\n",
    "# Load systems\n",
    "pathSystems = \"/user/mathias/systems_populated.jsonl\"\n",
    "systems = sqlContext.read.json(pathSystems)\n",
    "\n",
    "# Load commodities\n",
    "pathCommodities = \"/user/mathias/commodities.json\"\n",
    "commodities = sqlContext.read.json(pathCommodities)\n",
    "commodities = commodities.select(commodities.average_price, commodities.category.name, commodities.category_id, commodities.id, commodities.is_rare, commodities.name)\n",
    "\n",
    "# Filter only Beer commodities\n",
    "commoditiesBeers = commodities.filter((commodities.id == 8) | (commodities.id == 202))\n",
    "\n",
    "# Load market prices\n",
    "pathMarket = \"/user/mathias/listings.csv\"\n",
    "market = sqlContext.read.format(\"com.databricks.spark.csv\").option(\"header\", \"true\").option(\"inferSchema\", \"true\").load(pathMarket)\n",
    "\n",
    "# Filter only Beer prices\n",
    "beerMarket = market.filter((market.commodity_id == 8) | (market.commodity_id == 202))"
   ]
  },
  {
   "cell_type": "code",
   "execution_count": 4,
   "metadata": {
    "collapsed": false
   },
   "outputs": [
    {
     "data": {
      "text/html": [
       "<div id=\"ae7aec6b-7d63-4df8-aa67-eda2dc188b97\" style=\"height: 140px; width: 100%;\" class=\"plotly-graph-div\"></div><script type=\"text/javascript\">require([\"plotly\"], function(Plotly) { window.PLOTLYENV=window.PLOTLYENV || {};window.PLOTLYENV.BASE_URL=\"https://plot.ly\";Plotly.newPlot(\"ae7aec6b-7d63-4df8-aa67-eda2dc188b97\", [{\"opacity\": 0.75, \"colorscale\": [[0, \"#00083e\"], [0.5, \"#ededee\"], [1, \"#ffffff\"]], \"showscale\": false, \"hoverinfo\": \"none\", \"z\": [[0, 0, 0, 0, 0, 0], [0.5, 0.5, 0.5, 0.5, 0.5, 0.5], [1, 1, 1, 1, 1, 1]], \"type\": \"heatmap\"}], {\"yaxis\": {\"showticklabels\": false, \"tick0\": 0.5, \"ticks\": \"\", \"gridwidth\": 2, \"dtick\": 1, \"zeroline\": false, \"autorange\": \"reversed\"}, \"margin\": {\"r\": 0, \"b\": 0, \"l\": 0, \"t\": 0}, \"annotations\": [{\"xref\": \"x1\", \"xanchor\": \"left\", \"yref\": \"y1\", \"text\": \"<b>average_price</b>\", \"align\": \"left\", \"y\": 0, \"x\": -0.45, \"font\": {\"color\": \"#ffffff\"}, \"showarrow\": false}, {\"xref\": \"x1\", \"xanchor\": \"left\", \"yref\": \"y1\", \"text\": \"<b>category[name]</b>\", \"align\": \"left\", \"y\": 0, \"x\": 0.55, \"font\": {\"color\": \"#ffffff\"}, \"showarrow\": false}, {\"xref\": \"x1\", \"xanchor\": \"left\", \"yref\": \"y1\", \"text\": \"<b>category_id</b>\", \"align\": \"left\", \"y\": 0, \"x\": 1.55, \"font\": {\"color\": \"#ffffff\"}, \"showarrow\": false}, {\"xref\": \"x1\", \"xanchor\": \"left\", \"yref\": \"y1\", \"text\": \"<b>id</b>\", \"align\": \"left\", \"y\": 0, \"x\": 2.55, \"font\": {\"color\": \"#ffffff\"}, \"showarrow\": false}, {\"xref\": \"x1\", \"xanchor\": \"left\", \"yref\": \"y1\", \"text\": \"<b>is_rare</b>\", \"align\": \"left\", \"y\": 0, \"x\": 3.55, \"font\": {\"color\": \"#ffffff\"}, \"showarrow\": false}, {\"xref\": \"x1\", \"xanchor\": \"left\", \"yref\": \"y1\", \"text\": \"<b>name</b>\", \"align\": \"left\", \"y\": 0, \"x\": 4.55, \"font\": {\"color\": \"#ffffff\"}, \"showarrow\": false}, {\"xref\": \"x1\", \"xanchor\": \"left\", \"yref\": \"y1\", \"text\": \"186\", \"align\": \"left\", \"y\": 1, \"x\": -0.45, \"font\": {\"color\": \"#000000\"}, \"showarrow\": false}, {\"xref\": \"x1\", \"xanchor\": \"left\", \"yref\": \"y1\", \"text\": \"Legal Drugs\", \"align\": \"left\", \"y\": 1, \"x\": 0.55, \"font\": {\"color\": \"#000000\"}, \"showarrow\": false}, {\"xref\": \"x1\", \"xanchor\": \"left\", \"yref\": \"y1\", \"text\": \"3\", \"align\": \"left\", \"y\": 1, \"x\": 1.55, \"font\": {\"color\": \"#000000\"}, \"showarrow\": false}, {\"xref\": \"x1\", \"xanchor\": \"left\", \"yref\": \"y1\", \"text\": \"8\", \"align\": \"left\", \"y\": 1, \"x\": 2.55, \"font\": {\"color\": \"#000000\"}, \"showarrow\": false}, {\"xref\": \"x1\", \"xanchor\": \"left\", \"yref\": \"y1\", \"text\": \"0\", \"align\": \"left\", \"y\": 1, \"x\": 3.55, \"font\": {\"color\": \"#000000\"}, \"showarrow\": false}, {\"xref\": \"x1\", \"xanchor\": \"left\", \"yref\": \"y1\", \"text\": \"Beer\", \"align\": \"left\", \"y\": 1, \"x\": 4.55, \"font\": {\"color\": \"#000000\"}, \"showarrow\": false}, {\"xref\": \"x1\", \"xanchor\": \"left\", \"yref\": \"y1\", \"text\": \"8215\", \"align\": \"left\", \"y\": 2, \"x\": -0.45, \"font\": {\"color\": \"#000000\"}, \"showarrow\": false}, {\"xref\": \"x1\", \"xanchor\": \"left\", \"yref\": \"y1\", \"text\": \"Legal Drugs\", \"align\": \"left\", \"y\": 2, \"x\": 0.55, \"font\": {\"color\": \"#000000\"}, \"showarrow\": false}, {\"xref\": \"x1\", \"xanchor\": \"left\", \"yref\": \"y1\", \"text\": \"3\", \"align\": \"left\", \"y\": 2, \"x\": 1.55, \"font\": {\"color\": \"#000000\"}, \"showarrow\": false}, {\"xref\": \"x1\", \"xanchor\": \"left\", \"yref\": \"y1\", \"text\": \"202\", \"align\": \"left\", \"y\": 2, \"x\": 2.55, \"font\": {\"color\": \"#000000\"}, \"showarrow\": false}, {\"xref\": \"x1\", \"xanchor\": \"left\", \"yref\": \"y1\", \"text\": \"1\", \"align\": \"left\", \"y\": 2, \"x\": 3.55, \"font\": {\"color\": \"#000000\"}, \"showarrow\": false}, {\"xref\": \"x1\", \"xanchor\": \"left\", \"yref\": \"y1\", \"text\": \"Gerasian Gueuze Beer\", \"align\": \"left\", \"y\": 2, \"x\": 4.55, \"font\": {\"color\": \"#000000\"}, \"showarrow\": false}], \"xaxis\": {\"showticklabels\": false, \"tick0\": -0.5, \"ticks\": \"\", \"gridwidth\": 2, \"dtick\": 1, \"zeroline\": false}, \"height\": 140}, {\"linkText\": \"Export to plot.ly\", \"showLink\": true})});</script>"
      ],
      "text/plain": [
       "<IPython.core.display.HTML object>"
      ]
     },
     "metadata": {},
     "output_type": "display_data"
    }
   ],
   "source": [
    "# Display type of beers\n",
    "table = ff.create_table(commoditiesBeers.limit(10).toPandas())\n",
    "iplot(table, filename='commodities_table')"
   ]
  },
  {
   "cell_type": "code",
   "execution_count": 5,
   "metadata": {
    "collapsed": false
   },
   "outputs": [
    {
     "data": {
      "text/html": [
       "<div id=\"214d12da-67d4-4232-9b13-3fccc50d11cc\" style=\"height: 380px; width: 100%;\" class=\"plotly-graph-div\"></div><script type=\"text/javascript\">require([\"plotly\"], function(Plotly) { window.PLOTLYENV=window.PLOTLYENV || {};window.PLOTLYENV.BASE_URL=\"https://plot.ly\";Plotly.newPlot(\"214d12da-67d4-4232-9b13-3fccc50d11cc\", [{\"opacity\": 0.75, \"colorscale\": [[0, \"#00083e\"], [0.5, \"#ededee\"], [1, \"#ffffff\"]], \"showscale\": false, \"hoverinfo\": \"none\", \"z\": [[0, 0, 0, 0, 0, 0, 0, 0], [0.5, 0.5, 0.5, 0.5, 0.5, 0.5, 0.5, 0.5], [1, 1, 1, 1, 1, 1, 1, 1], [0.5, 0.5, 0.5, 0.5, 0.5, 0.5, 0.5, 0.5], [1, 1, 1, 1, 1, 1, 1, 1], [0.5, 0.5, 0.5, 0.5, 0.5, 0.5, 0.5, 0.5], [1, 1, 1, 1, 1, 1, 1, 1], [0.5, 0.5, 0.5, 0.5, 0.5, 0.5, 0.5, 0.5], [1, 1, 1, 1, 1, 1, 1, 1], [0.5, 0.5, 0.5, 0.5, 0.5, 0.5, 0.5, 0.5], [1, 1, 1, 1, 1, 1, 1, 1]], \"type\": \"heatmap\"}], {\"yaxis\": {\"showticklabels\": false, \"tick0\": 0.5, \"ticks\": \"\", \"gridwidth\": 2, \"dtick\": 1, \"zeroline\": false, \"autorange\": \"reversed\"}, \"margin\": {\"r\": 0, \"b\": 0, \"l\": 0, \"t\": 0}, \"annotations\": [{\"xref\": \"x1\", \"xanchor\": \"left\", \"yref\": \"y1\", \"text\": \"<b>id</b>\", \"align\": \"left\", \"y\": 0, \"x\": -0.45, \"font\": {\"color\": \"#ffffff\"}, \"showarrow\": false}, {\"xref\": \"x1\", \"xanchor\": \"left\", \"yref\": \"y1\", \"text\": \"<b>station_id</b>\", \"align\": \"left\", \"y\": 0, \"x\": 0.55, \"font\": {\"color\": \"#ffffff\"}, \"showarrow\": false}, {\"xref\": \"x1\", \"xanchor\": \"left\", \"yref\": \"y1\", \"text\": \"<b>commodity_id</b>\", \"align\": \"left\", \"y\": 0, \"x\": 1.55, \"font\": {\"color\": \"#ffffff\"}, \"showarrow\": false}, {\"xref\": \"x1\", \"xanchor\": \"left\", \"yref\": \"y1\", \"text\": \"<b>supply</b>\", \"align\": \"left\", \"y\": 0, \"x\": 2.55, \"font\": {\"color\": \"#ffffff\"}, \"showarrow\": false}, {\"xref\": \"x1\", \"xanchor\": \"left\", \"yref\": \"y1\", \"text\": \"<b>buy_price</b>\", \"align\": \"left\", \"y\": 0, \"x\": 3.55, \"font\": {\"color\": \"#ffffff\"}, \"showarrow\": false}, {\"xref\": \"x1\", \"xanchor\": \"left\", \"yref\": \"y1\", \"text\": \"<b>sell_price</b>\", \"align\": \"left\", \"y\": 0, \"x\": 4.55, \"font\": {\"color\": \"#ffffff\"}, \"showarrow\": false}, {\"xref\": \"x1\", \"xanchor\": \"left\", \"yref\": \"y1\", \"text\": \"<b>demand</b>\", \"align\": \"left\", \"y\": 0, \"x\": 5.55, \"font\": {\"color\": \"#ffffff\"}, \"showarrow\": false}, {\"xref\": \"x1\", \"xanchor\": \"left\", \"yref\": \"y1\", \"text\": \"<b>collected_at</b>\", \"align\": \"left\", \"y\": 0, \"x\": 6.55, \"font\": {\"color\": \"#ffffff\"}, \"showarrow\": false}, {\"xref\": \"x1\", \"xanchor\": \"left\", \"yref\": \"y1\", \"text\": \"493612\", \"align\": \"left\", \"y\": 1, \"x\": -0.45, \"font\": {\"color\": \"#000000\"}, \"showarrow\": false}, {\"xref\": \"x1\", \"xanchor\": \"left\", \"yref\": \"y1\", \"text\": \"13093\", \"align\": \"left\", \"y\": 1, \"x\": 0.55, \"font\": {\"color\": \"#000000\"}, \"showarrow\": false}, {\"xref\": \"x1\", \"xanchor\": \"left\", \"yref\": \"y1\", \"text\": \"8\", \"align\": \"left\", \"y\": 1, \"x\": 1.55, \"font\": {\"color\": \"#000000\"}, \"showarrow\": false}, {\"xref\": \"x1\", \"xanchor\": \"left\", \"yref\": \"y1\", \"text\": \"0\", \"align\": \"left\", \"y\": 1, \"x\": 2.55, \"font\": {\"color\": \"#000000\"}, \"showarrow\": false}, {\"xref\": \"x1\", \"xanchor\": \"left\", \"yref\": \"y1\", \"text\": \"0\", \"align\": \"left\", \"y\": 1, \"x\": 3.55, \"font\": {\"color\": \"#000000\"}, \"showarrow\": false}, {\"xref\": \"x1\", \"xanchor\": \"left\", \"yref\": \"y1\", \"text\": \"478\", \"align\": \"left\", \"y\": 1, \"x\": 4.55, \"font\": {\"color\": \"#000000\"}, \"showarrow\": false}, {\"xref\": \"x1\", \"xanchor\": \"left\", \"yref\": \"y1\", \"text\": \"1288\", \"align\": \"left\", \"y\": 1, \"x\": 5.55, \"font\": {\"color\": \"#000000\"}, \"showarrow\": false}, {\"xref\": \"x1\", \"xanchor\": \"left\", \"yref\": \"y1\", \"text\": \"1485627368\", \"align\": \"left\", \"y\": 1, \"x\": 6.55, \"font\": {\"color\": \"#000000\"}, \"showarrow\": false}, {\"xref\": \"x1\", \"xanchor\": \"left\", \"yref\": \"y1\", \"text\": \"2715600\", \"align\": \"left\", \"y\": 2, \"x\": -0.45, \"font\": {\"color\": \"#000000\"}, \"showarrow\": false}, {\"xref\": \"x1\", \"xanchor\": \"left\", \"yref\": \"y1\", \"text\": \"13094\", \"align\": \"left\", \"y\": 2, \"x\": 0.55, \"font\": {\"color\": \"#000000\"}, \"showarrow\": false}, {\"xref\": \"x1\", \"xanchor\": \"left\", \"yref\": \"y1\", \"text\": \"8\", \"align\": \"left\", \"y\": 2, \"x\": 1.55, \"font\": {\"color\": \"#000000\"}, \"showarrow\": false}, {\"xref\": \"x1\", \"xanchor\": \"left\", \"yref\": \"y1\", \"text\": \"556309\", \"align\": \"left\", \"y\": 2, \"x\": 2.55, \"font\": {\"color\": \"#000000\"}, \"showarrow\": false}, {\"xref\": \"x1\", \"xanchor\": \"left\", \"yref\": \"y1\", \"text\": \"53\", \"align\": \"left\", \"y\": 2, \"x\": 3.55, \"font\": {\"color\": \"#000000\"}, \"showarrow\": false}, {\"xref\": \"x1\", \"xanchor\": \"left\", \"yref\": \"y1\", \"text\": \"45\", \"align\": \"left\", \"y\": 2, \"x\": 4.55, \"font\": {\"color\": \"#000000\"}, \"showarrow\": false}, {\"xref\": \"x1\", \"xanchor\": \"left\", \"yref\": \"y1\", \"text\": \"0\", \"align\": \"left\", \"y\": 2, \"x\": 5.55, \"font\": {\"color\": \"#000000\"}, \"showarrow\": false}, {\"xref\": \"x1\", \"xanchor\": \"left\", \"yref\": \"y1\", \"text\": \"1482387835\", \"align\": \"left\", \"y\": 2, \"x\": 6.55, \"font\": {\"color\": \"#000000\"}, \"showarrow\": false}, {\"xref\": \"x1\", \"xanchor\": \"left\", \"yref\": \"y1\", \"text\": \"493659\", \"align\": \"left\", \"y\": 3, \"x\": -0.45, \"font\": {\"color\": \"#000000\"}, \"showarrow\": false}, {\"xref\": \"x1\", \"xanchor\": \"left\", \"yref\": \"y1\", \"text\": \"13095\", \"align\": \"left\", \"y\": 3, \"x\": 0.55, \"font\": {\"color\": \"#000000\"}, \"showarrow\": false}, {\"xref\": \"x1\", \"xanchor\": \"left\", \"yref\": \"y1\", \"text\": \"8\", \"align\": \"left\", \"y\": 3, \"x\": 1.55, \"font\": {\"color\": \"#000000\"}, \"showarrow\": false}, {\"xref\": \"x1\", \"xanchor\": \"left\", \"yref\": \"y1\", \"text\": \"0\", \"align\": \"left\", \"y\": 3, \"x\": 2.55, \"font\": {\"color\": \"#000000\"}, \"showarrow\": false}, {\"xref\": \"x1\", \"xanchor\": \"left\", \"yref\": \"y1\", \"text\": \"0\", \"align\": \"left\", \"y\": 3, \"x\": 3.55, \"font\": {\"color\": \"#000000\"}, \"showarrow\": false}, {\"xref\": \"x1\", \"xanchor\": \"left\", \"yref\": \"y1\", \"text\": \"306\", \"align\": \"left\", \"y\": 3, \"x\": 4.55, \"font\": {\"color\": \"#000000\"}, \"showarrow\": false}, {\"xref\": \"x1\", \"xanchor\": \"left\", \"yref\": \"y1\", \"text\": \"19110\", \"align\": \"left\", \"y\": 3, \"x\": 5.55, \"font\": {\"color\": \"#000000\"}, \"showarrow\": false}, {\"xref\": \"x1\", \"xanchor\": \"left\", \"yref\": \"y1\", \"text\": \"1429347220\", \"align\": \"left\", \"y\": 3, \"x\": 6.55, \"font\": {\"color\": \"#000000\"}, \"showarrow\": false}, {\"xref\": \"x1\", \"xanchor\": \"left\", \"yref\": \"y1\", \"text\": \"493690\", \"align\": \"left\", \"y\": 4, \"x\": -0.45, \"font\": {\"color\": \"#000000\"}, \"showarrow\": false}, {\"xref\": \"x1\", \"xanchor\": \"left\", \"yref\": \"y1\", \"text\": \"13096\", \"align\": \"left\", \"y\": 4, \"x\": 0.55, \"font\": {\"color\": \"#000000\"}, \"showarrow\": false}, {\"xref\": \"x1\", \"xanchor\": \"left\", \"yref\": \"y1\", \"text\": \"8\", \"align\": \"left\", \"y\": 4, \"x\": 1.55, \"font\": {\"color\": \"#000000\"}, \"showarrow\": false}, {\"xref\": \"x1\", \"xanchor\": \"left\", \"yref\": \"y1\", \"text\": \"0\", \"align\": \"left\", \"y\": 4, \"x\": 2.55, \"font\": {\"color\": \"#000000\"}, \"showarrow\": false}, {\"xref\": \"x1\", \"xanchor\": \"left\", \"yref\": \"y1\", \"text\": \"0\", \"align\": \"left\", \"y\": 4, \"x\": 3.55, \"font\": {\"color\": \"#000000\"}, \"showarrow\": false}, {\"xref\": \"x1\", \"xanchor\": \"left\", \"yref\": \"y1\", \"text\": \"357\", \"align\": \"left\", \"y\": 4, \"x\": 4.55, \"font\": {\"color\": \"#000000\"}, \"showarrow\": false}, {\"xref\": \"x1\", \"xanchor\": \"left\", \"yref\": \"y1\", \"text\": \"183\", \"align\": \"left\", \"y\": 4, \"x\": 5.55, \"font\": {\"color\": \"#000000\"}, \"showarrow\": false}, {\"xref\": \"x1\", \"xanchor\": \"left\", \"yref\": \"y1\", \"text\": \"1484715216\", \"align\": \"left\", \"y\": 4, \"x\": 6.55, \"font\": {\"color\": \"#000000\"}, \"showarrow\": false}, {\"xref\": \"x1\", \"xanchor\": \"left\", \"yref\": \"y1\", \"text\": \"493734\", \"align\": \"left\", \"y\": 5, \"x\": -0.45, \"font\": {\"color\": \"#000000\"}, \"showarrow\": false}, {\"xref\": \"x1\", \"xanchor\": \"left\", \"yref\": \"y1\", \"text\": \"13097\", \"align\": \"left\", \"y\": 5, \"x\": 0.55, \"font\": {\"color\": \"#000000\"}, \"showarrow\": false}, {\"xref\": \"x1\", \"xanchor\": \"left\", \"yref\": \"y1\", \"text\": \"8\", \"align\": \"left\", \"y\": 5, \"x\": 1.55, \"font\": {\"color\": \"#000000\"}, \"showarrow\": false}, {\"xref\": \"x1\", \"xanchor\": \"left\", \"yref\": \"y1\", \"text\": \"0\", \"align\": \"left\", \"y\": 5, \"x\": 2.55, \"font\": {\"color\": \"#000000\"}, \"showarrow\": false}, {\"xref\": \"x1\", \"xanchor\": \"left\", \"yref\": \"y1\", \"text\": \"0\", \"align\": \"left\", \"y\": 5, \"x\": 3.55, \"font\": {\"color\": \"#000000\"}, \"showarrow\": false}, {\"xref\": \"x1\", \"xanchor\": \"left\", \"yref\": \"y1\", \"text\": \"403\", \"align\": \"left\", \"y\": 5, \"x\": 4.55, \"font\": {\"color\": \"#000000\"}, \"showarrow\": false}, {\"xref\": \"x1\", \"xanchor\": \"left\", \"yref\": \"y1\", \"text\": \"403596\", \"align\": \"left\", \"y\": 5, \"x\": 5.55, \"font\": {\"color\": \"#000000\"}, \"showarrow\": false}, {\"xref\": \"x1\", \"xanchor\": \"left\", \"yref\": \"y1\", \"text\": \"1485646215\", \"align\": \"left\", \"y\": 5, \"x\": 6.55, \"font\": {\"color\": \"#000000\"}, \"showarrow\": false}, {\"xref\": \"x1\", \"xanchor\": \"left\", \"yref\": \"y1\", \"text\": \"493795\", \"align\": \"left\", \"y\": 6, \"x\": -0.45, \"font\": {\"color\": \"#000000\"}, \"showarrow\": false}, {\"xref\": \"x1\", \"xanchor\": \"left\", \"yref\": \"y1\", \"text\": \"13098\", \"align\": \"left\", \"y\": 6, \"x\": 0.55, \"font\": {\"color\": \"#000000\"}, \"showarrow\": false}, {\"xref\": \"x1\", \"xanchor\": \"left\", \"yref\": \"y1\", \"text\": \"8\", \"align\": \"left\", \"y\": 6, \"x\": 1.55, \"font\": {\"color\": \"#000000\"}, \"showarrow\": false}, {\"xref\": \"x1\", \"xanchor\": \"left\", \"yref\": \"y1\", \"text\": \"0\", \"align\": \"left\", \"y\": 6, \"x\": 2.55, \"font\": {\"color\": \"#000000\"}, \"showarrow\": false}, {\"xref\": \"x1\", \"xanchor\": \"left\", \"yref\": \"y1\", \"text\": \"0\", \"align\": \"left\", \"y\": 6, \"x\": 3.55, \"font\": {\"color\": \"#000000\"}, \"showarrow\": false}, {\"xref\": \"x1\", \"xanchor\": \"left\", \"yref\": \"y1\", \"text\": \"175\", \"align\": \"left\", \"y\": 6, \"x\": 4.55, \"font\": {\"color\": \"#000000\"}, \"showarrow\": false}, {\"xref\": \"x1\", \"xanchor\": \"left\", \"yref\": \"y1\", \"text\": \"2480\", \"align\": \"left\", \"y\": 6, \"x\": 5.55, \"font\": {\"color\": \"#000000\"}, \"showarrow\": false}, {\"xref\": \"x1\", \"xanchor\": \"left\", \"yref\": \"y1\", \"text\": \"1485138495\", \"align\": \"left\", \"y\": 6, \"x\": 6.55, \"font\": {\"color\": \"#000000\"}, \"showarrow\": false}, {\"xref\": \"x1\", \"xanchor\": \"left\", \"yref\": \"y1\", \"text\": \"493883\", \"align\": \"left\", \"y\": 7, \"x\": -0.45, \"font\": {\"color\": \"#000000\"}, \"showarrow\": false}, {\"xref\": \"x1\", \"xanchor\": \"left\", \"yref\": \"y1\", \"text\": \"13100\", \"align\": \"left\", \"y\": 7, \"x\": 0.55, \"font\": {\"color\": \"#000000\"}, \"showarrow\": false}, {\"xref\": \"x1\", \"xanchor\": \"left\", \"yref\": \"y1\", \"text\": \"8\", \"align\": \"left\", \"y\": 7, \"x\": 1.55, \"font\": {\"color\": \"#000000\"}, \"showarrow\": false}, {\"xref\": \"x1\", \"xanchor\": \"left\", \"yref\": \"y1\", \"text\": \"0\", \"align\": \"left\", \"y\": 7, \"x\": 2.55, \"font\": {\"color\": \"#000000\"}, \"showarrow\": false}, {\"xref\": \"x1\", \"xanchor\": \"left\", \"yref\": \"y1\", \"text\": \"0\", \"align\": \"left\", \"y\": 7, \"x\": 3.55, \"font\": {\"color\": \"#000000\"}, \"showarrow\": false}, {\"xref\": \"x1\", \"xanchor\": \"left\", \"yref\": \"y1\", \"text\": \"403\", \"align\": \"left\", \"y\": 7, \"x\": 4.55, \"font\": {\"color\": \"#000000\"}, \"showarrow\": false}, {\"xref\": \"x1\", \"xanchor\": \"left\", \"yref\": \"y1\", \"text\": \"494300\", \"align\": \"left\", \"y\": 7, \"x\": 5.55, \"font\": {\"color\": \"#000000\"}, \"showarrow\": false}, {\"xref\": \"x1\", \"xanchor\": \"left\", \"yref\": \"y1\", \"text\": \"1485484610\", \"align\": \"left\", \"y\": 7, \"x\": 6.55, \"font\": {\"color\": \"#000000\"}, \"showarrow\": false}, {\"xref\": \"x1\", \"xanchor\": \"left\", \"yref\": \"y1\", \"text\": \"493995\", \"align\": \"left\", \"y\": 8, \"x\": -0.45, \"font\": {\"color\": \"#000000\"}, \"showarrow\": false}, {\"xref\": \"x1\", \"xanchor\": \"left\", \"yref\": \"y1\", \"text\": \"13101\", \"align\": \"left\", \"y\": 8, \"x\": 0.55, \"font\": {\"color\": \"#000000\"}, \"showarrow\": false}, {\"xref\": \"x1\", \"xanchor\": \"left\", \"yref\": \"y1\", \"text\": \"8\", \"align\": \"left\", \"y\": 8, \"x\": 1.55, \"font\": {\"color\": \"#000000\"}, \"showarrow\": false}, {\"xref\": \"x1\", \"xanchor\": \"left\", \"yref\": \"y1\", \"text\": \"0\", \"align\": \"left\", \"y\": 8, \"x\": 2.55, \"font\": {\"color\": \"#000000\"}, \"showarrow\": false}, {\"xref\": \"x1\", \"xanchor\": \"left\", \"yref\": \"y1\", \"text\": \"0\", \"align\": \"left\", \"y\": 8, \"x\": 3.55, \"font\": {\"color\": \"#000000\"}, \"showarrow\": false}, {\"xref\": \"x1\", \"xanchor\": \"left\", \"yref\": \"y1\", \"text\": \"175\", \"align\": \"left\", \"y\": 8, \"x\": 4.55, \"font\": {\"color\": \"#000000\"}, \"showarrow\": false}, {\"xref\": \"x1\", \"xanchor\": \"left\", \"yref\": \"y1\", \"text\": \"7543\", \"align\": \"left\", \"y\": 8, \"x\": 5.55, \"font\": {\"color\": \"#000000\"}, \"showarrow\": false}, {\"xref\": \"x1\", \"xanchor\": \"left\", \"yref\": \"y1\", \"text\": \"1485645778\", \"align\": \"left\", \"y\": 8, \"x\": 6.55, \"font\": {\"color\": \"#000000\"}, \"showarrow\": false}, {\"xref\": \"x1\", \"xanchor\": \"left\", \"yref\": \"y1\", \"text\": \"494051\", \"align\": \"left\", \"y\": 9, \"x\": -0.45, \"font\": {\"color\": \"#000000\"}, \"showarrow\": false}, {\"xref\": \"x1\", \"xanchor\": \"left\", \"yref\": \"y1\", \"text\": \"13102\", \"align\": \"left\", \"y\": 9, \"x\": 0.55, \"font\": {\"color\": \"#000000\"}, \"showarrow\": false}, {\"xref\": \"x1\", \"xanchor\": \"left\", \"yref\": \"y1\", \"text\": \"8\", \"align\": \"left\", \"y\": 9, \"x\": 1.55, \"font\": {\"color\": \"#000000\"}, \"showarrow\": false}, {\"xref\": \"x1\", \"xanchor\": \"left\", \"yref\": \"y1\", \"text\": \"0\", \"align\": \"left\", \"y\": 9, \"x\": 2.55, \"font\": {\"color\": \"#000000\"}, \"showarrow\": false}, {\"xref\": \"x1\", \"xanchor\": \"left\", \"yref\": \"y1\", \"text\": \"0\", \"align\": \"left\", \"y\": 9, \"x\": 3.55, \"font\": {\"color\": \"#000000\"}, \"showarrow\": false}, {\"xref\": \"x1\", \"xanchor\": \"left\", \"yref\": \"y1\", \"text\": \"178\", \"align\": \"left\", \"y\": 9, \"x\": 4.55, \"font\": {\"color\": \"#000000\"}, \"showarrow\": false}, {\"xref\": \"x1\", \"xanchor\": \"left\", \"yref\": \"y1\", \"text\": \"24684\", \"align\": \"left\", \"y\": 9, \"x\": 5.55, \"font\": {\"color\": \"#000000\"}, \"showarrow\": false}, {\"xref\": \"x1\", \"xanchor\": \"left\", \"yref\": \"y1\", \"text\": \"1471212587\", \"align\": \"left\", \"y\": 9, \"x\": 6.55, \"font\": {\"color\": \"#000000\"}, \"showarrow\": false}, {\"xref\": \"x1\", \"xanchor\": \"left\", \"yref\": \"y1\", \"text\": \"494127\", \"align\": \"left\", \"y\": 10, \"x\": -0.45, \"font\": {\"color\": \"#000000\"}, \"showarrow\": false}, {\"xref\": \"x1\", \"xanchor\": \"left\", \"yref\": \"y1\", \"text\": \"13103\", \"align\": \"left\", \"y\": 10, \"x\": 0.55, \"font\": {\"color\": \"#000000\"}, \"showarrow\": false}, {\"xref\": \"x1\", \"xanchor\": \"left\", \"yref\": \"y1\", \"text\": \"8\", \"align\": \"left\", \"y\": 10, \"x\": 1.55, \"font\": {\"color\": \"#000000\"}, \"showarrow\": false}, {\"xref\": \"x1\", \"xanchor\": \"left\", \"yref\": \"y1\", \"text\": \"0\", \"align\": \"left\", \"y\": 10, \"x\": 2.55, \"font\": {\"color\": \"#000000\"}, \"showarrow\": false}, {\"xref\": \"x1\", \"xanchor\": \"left\", \"yref\": \"y1\", \"text\": \"0\", \"align\": \"left\", \"y\": 10, \"x\": 3.55, \"font\": {\"color\": \"#000000\"}, \"showarrow\": false}, {\"xref\": \"x1\", \"xanchor\": \"left\", \"yref\": \"y1\", \"text\": \"459\", \"align\": \"left\", \"y\": 10, \"x\": 4.55, \"font\": {\"color\": \"#000000\"}, \"showarrow\": false}, {\"xref\": \"x1\", \"xanchor\": \"left\", \"yref\": \"y1\", \"text\": \"16210\", \"align\": \"left\", \"y\": 10, \"x\": 5.55, \"font\": {\"color\": \"#000000\"}, \"showarrow\": false}, {\"xref\": \"x1\", \"xanchor\": \"left\", \"yref\": \"y1\", \"text\": \"1485721184\", \"align\": \"left\", \"y\": 10, \"x\": 6.55, \"font\": {\"color\": \"#000000\"}, \"showarrow\": false}], \"xaxis\": {\"showticklabels\": false, \"tick0\": -0.5, \"ticks\": \"\", \"gridwidth\": 2, \"dtick\": 1, \"zeroline\": false}, \"height\": 380}, {\"linkText\": \"Export to plot.ly\", \"showLink\": true})});</script>"
      ],
      "text/plain": [
       "<IPython.core.display.HTML object>"
      ]
     },
     "metadata": {},
     "output_type": "display_data"
    }
   ],
   "source": [
    "table = ff.create_table(beerMarket.limit(10).toPandas())\n",
    "iplot(table, filename='market_table')"
   ]
  },
  {
   "cell_type": "markdown",
   "metadata": {},
   "source": [
    "# 2. Cheapest beer of the Galaxy ?"
   ]
  },
  {
   "cell_type": "code",
   "execution_count": 7,
   "metadata": {
    "collapsed": false
   },
   "outputs": [
    {
     "data": {
      "text/html": [
       "<div id=\"c630659f-023e-45ba-829c-a19b71defbee\" style=\"height: 525px; width: 100%;\" class=\"plotly-graph-div\"></div><script type=\"text/javascript\">require([\"plotly\"], function(Plotly) { window.PLOTLYENV=window.PLOTLYENV || {};window.PLOTLYENV.BASE_URL=\"https://plot.ly\";Plotly.newPlot(\"c630659f-023e-45ba-829c-a19b71defbee\", [{\"y\": [20, 25, 32, 34, 34, 37, 38, 39, 40, 42, 43, 43, 44, 45, 45, 45, 45, 45, 46, 47, 47, 49, 49, 49, 49, 50, 51, 51, 51, 51, 51, 51, 51, 51, 51, 51, 51, 52, 52, 52, 52, 52, 52, 52, 52, 52, 52, 52, 52, 53, 53, 53, 53, 53, 53, 53, 53, 53, 53, 53, 53, 53, 53, 53, 53, 53, 53, 53, 53, 53, 53, 54, 54, 54, 55, 55, 55, 55, 55, 55, 55, 56, 56, 56, 56, 56, 56, 56, 56, 56, 56, 56, 56, 56, 56, 56, 56, 56, 56, 57], \"x\": [\"Roentgen Hub\", \"Skiff Port\", \"Skyline High\", \"RenenBellot Market\", \"Chango Dock\", \"Austin Market\", \"Marques Dock\", \"Lubbock Market\", \"Ferguson Dock\", \"Tyson Market\", \"Navigator Market\", \"Corbusier Market\", \"Kaku Station\", \"Veron City\", \"Kerr Hub\", \"Edison Orbital\", \"Kuhn Gateway\", \"Cenker City\", \"Stephan Terminal\", \"Tull Terminal\", \"Grover Port\", \"Kelly City\", \"Whitson Market\", \"Brunel City\", \"Stackpole Market\", \"Frigschneck's Resort\", \"Anastase Perrotin Orbital\", \"Borisenko Landing\", \"Mitra Estate\", \"Mukai Market\", \"Carrier Dock\", \"Nakamura Orbital\", \"Feoktistov Orbital\", \"Sturgeon Station\", \"Shipton Orbital\", \"Aksyonov Orbital\", \"Hurston Terminal\", \"Alex's Rest\", \"Gohar City\", \"Manarov City\", \"Rolland Port\", \"Jack E. Stuart Memorial Spaceport\", \"Brongniart Station\", \"Reilly Dock\", \"Dummer Dock\", \"Hoffman Market\", \"Whelan Dock\", \"Checkpoint Brindtopia\", \"Woolley Port\", \"Clayton Gateway\", \"Altuna Hub\", \"Smith Terminal\", \"Metcalf Station\", \"Farrer Colony\", \"Carver City\", \"Fortress Cousens\", \"Whitney Station\", \"Herreshoff Market\", \"Baraniecki Hub\", \"Fung Market\", \"Borman Terminal\", \"Meinel Hub\", \"Stone Market\", \"Alexander Port\", \"Mitchell Terminal\", \"Dyson City\", \"Buckland Gateway\", \"Roddenberry Gateway\", \"Tezuka\", \"Davies Station\", \"Galvani Terminal\", \"Leclerc Ring\", \"Hennen Port\", \"Romanenko Port\", \"Lucretius City\", \"Sagan Orbital\", \"Torricelli Station\", \"Ziemianski Hub\", \"Precourt City\", \"Amnuel Terminal\", \"Bernard City\", \"Oliver Market\", \"Nesvadba Orbital\", \"Gunn Terminal\", \"Whitney City\", \"Hausdorff Hub\", \"Tucker Ring\", \"Dashiell Orbital\", \"Hardwick Orbital\", \"Garnier Station\", \"Holdstock Market\", \"Lundmark Ring\", \"Lee Hub\", \"Sullivan Ring\", \"Ore Terminal\", \"Watson Orbital\", \"la Cosa City\", \"Collins Station\", \"Cadamosto Market\", \"Hoyle Orbital\"], \"type\": \"scatter\", \"name\": \"buy_price\", \"mode\": \"lines\"}], {\"paper_bgcolor\": \"#323a48\", \"plot_bgcolor\": \"#323a48\", \"font\": {\"color\": \"#cdd2e9\"}, \"xaxis\": {\"color\": \"#cdd2e9\"}, \"yaxis\": {\"color\": \"#cdd2e9\"}}, {\"linkText\": \"Export to plot.ly\", \"showLink\": true})});</script>"
      ],
      "text/plain": [
       "<IPython.core.display.HTML object>"
      ]
     },
     "metadata": {},
     "output_type": "display_data"
    }
   ],
   "source": [
    "# 1. filter only prices of stations with supplies\n",
    "# 2. join market prices with commodities and stations\n",
    "# 3. sort by buy price ascending\n",
    "# 4. get only the top 100\n",
    "topCheap = beerMarket\\\n",
    "    .filter(beerMarket.supply > 0)\\\n",
    "    .join(stations, beerMarket.station_id == stations.id)\\\n",
    "    .select(beerMarket.buy_price, stations.name)\\\n",
    "    .sort(beerMarket.buy_price.asc())\\\n",
    "    .limit(100)\n",
    "\n",
    "# plot that\n",
    "df1 = topCheap.toPandas()\n",
    "trace1 = go.Scatter(\n",
    "    x = df1['name'],\n",
    "    y = df1['buy_price'],\n",
    "    mode = 'lines',\n",
    "    name = 'buy_price'\n",
    ")\n",
    "\n",
    "figure1 = go.Figure(data=[trace1], layout=layout)\n",
    "iplot(figure1, filename='beer-buy-price')"
   ]
  },
  {
   "cell_type": "markdown",
   "metadata": {},
   "source": [
    "![](img/DAG.png)"
   ]
  },
  {
   "cell_type": "code",
   "execution_count": 8,
   "metadata": {
    "collapsed": false
   },
   "outputs": [
    {
     "data": {
      "text/html": [
       "<div id=\"13bc35b4-cfac-4c88-af5f-21bc36dddf39\" style=\"height: 525px; width: 100%;\" class=\"plotly-graph-div\"></div><script type=\"text/javascript\">require([\"plotly\"], function(Plotly) { window.PLOTLYENV=window.PLOTLYENV || {};window.PLOTLYENV.BASE_URL=\"https://plot.ly\";Plotly.newPlot(\"13bc35b4-cfac-4c88-af5f-21bc36dddf39\", [{\"y\": [492, 492, 492, 492, 492, 492, 492, 492, 492, 491, 490, 490, 490, 490, 488, 488, 488, 488, 488, 488, 488, 488, 488, 488, 488, 488, 488, 487, 487, 487, 486, 486, 486, 486, 485, 485, 485, 484, 484, 484, 484, 483, 483, 483, 483, 483, 483, 483, 483, 483, 483, 483, 483, 483, 483, 483, 483, 483, 483, 483, 483, 483, 483, 483, 483, 483, 483, 482, 482, 482, 482, 482, 482, 482, 482, 482, 482, 482, 482, 482, 482, 482, 482, 482, 482, 482, 482, 482, 482, 482, 482, 482, 482, 482, 482, 482, 482, 482, 482, 482], \"x\": [\"Nagata Stop\", \"Bushkov Dock\", \"Baker Landing\", \"Furrer Vista\", \"Starzl Prospect\", \"Chorel Survey\", \"Berezin Terminal\", \"Reamy Dock\", \"Geoffrey's Crash\", \"Thomson Orbital\", \"Whit's Station\", \"Landis Settlement\", \"Abel Laboratory\", \"Henson Laboratory\", \"Bain Colony\", \"Doi Station\", \"Springer Escape\", \"Sylvester Oasis\", \"Thompson Holdings\", \"Reynolds Holdings\", \"Debye Port\", \"Viktorenko Holdings\", \"al-Din Survey\", \"Glenn Ring\", \"Hennepin Prospect\", \"Onizuka Oasis\", \"Wheelock Gateway\", \"Kramski Holding\", \"von Bellingshausen Escape\", \"Smeaton Vision\", \"Dunn Installation\", \"Morgan Installation\", \"Aleksandrov Colony\", \"Forsskal Gateway\", \"Cartier Landing\", \"Scheerbart Beacon\", \"Adams' Inheritance\", \"Celsius Observatory\", \"Tudela Enterprise\", \"Raleigh Vision\", \"Steinmuller Prospect\", \"Haarsma Terminal\", \"Yu Enterprise\", \"Meaney Terminal\", \"Grabe Gateway\", \"Carr's Inheritance\", \"Lewitt Installation\", \"Oltion Terminal\", \"Altshuller Base\", \"Butcher Forum\", \"Schmitz Laboratory\", \"Mitchell Beacon\", \"Bulychev Laboratory\", \"Evans Horizons\", \"McMullen Point\", \"Nikolayev Terminal\", \"Readdy Orbital\", \"Grigson Terminal\", \"Malchiodi Base\", \"Frobenius' Progress\", \"Bailey Plant\", \"Gunn Base\", \"Blaylock's Progress\", \"Brunel Depot\", \"Ziljak Prospect\", \"Alvarado Holdings\", \"Phillips Holdings\", \"Barnes Retreat\", \"Hackworth Mine\", \"Yegorov Point\", \"Archimedes Outpost\", \"Berezovoy Mines\", \"Nourse Legacy\", \"Morgan Dock\", \"Hennen Stop\", \"Morin Point\", \"Vogel Colony\", \"Galvani Mines\", \"Polansky Platform\", \"Witt Freeport\", \"Kirtley Sanctuary\", \"Werner von Siemens Port\", \"Macquorn Rankine Camp\", \"Britnev's Folly\", \"Parsons Reach\", \"Lasswitz Mines\", \"Chiang Port\", \"Swigert Stop\", \"Al Saud Stop\", \"Fung Outpost\", \"Svavarsson Survey\", \"Payson Platform\", \"Edwards Stop\", \"Porges Platform\", \"Weyl Platform\", \"Deluc Survey\", \"Dickson Refinery\", \"Effinger Reach\", \"Leeuwenhoek Landing\", \"Eskridge Asylum\"], \"type\": \"scatter\", \"name\": \"sell_price\", \"mode\": \"lines\"}], {\"paper_bgcolor\": \"#323a48\", \"plot_bgcolor\": \"#323a48\", \"font\": {\"color\": \"#cdd2e9\"}, \"xaxis\": {\"color\": \"#cdd2e9\"}, \"yaxis\": {\"color\": \"#cdd2e9\"}}, {\"linkText\": \"Export to plot.ly\", \"showLink\": true})});</script>"
      ],
      "text/plain": [
       "<IPython.core.display.HTML object>"
      ]
     },
     "metadata": {},
     "output_type": "display_data"
    }
   ],
   "source": [
    "# same thing, but to find the best sell price\n",
    "topSell = beerMarket\\\n",
    "    .filter(beerMarket.demand > 0)\\\n",
    "    .join(stations, beerMarket.station_id == stations.id)\\\n",
    "    .select(beerMarket.sell_price, stations.name)\\\n",
    "    .sort(beerMarket.sell_price.desc())\\\n",
    "    .limit(100)\n",
    "\n",
    "# plot that\n",
    "df2 = topSell.toPandas()\n",
    "trace2 = go.Scatter(\n",
    "    x = df2['name'],\n",
    "    y = df2['sell_price'],\n",
    "    mode = 'lines',\n",
    "    name = 'sell_price'\n",
    ")\n",
    "\n",
    "figure2 = go.Figure(data=[trace2], layout=layout)\n",
    "iplot(figure2, filename='beer-sell-price')"
   ]
  },
  {
   "cell_type": "markdown",
   "metadata": {},
   "source": [
    "# 2. Objectif: Anaconda... comment farmer ?\n",
    "\n",
    "![](img/Galnet-anaconda.jpg)\n",
    "\n",
    "![](img/Anaconda-BluePrint.png)\n",
    "\n",
    "Comment financer l'achat de ce vaiseau ??\n",
    "\n",
    "On va \"farmer\" de la bière..."
   ]
  },
  {
   "cell_type": "code",
   "execution_count": 9,
   "metadata": {
    "collapsed": false,
    "scrolled": true
   },
   "outputs": [],
   "source": [
    "from pyspark.sql.functions import udf, col\n",
    "from pyspark.sql.types import IntegerType\n",
    "\n",
    "# Bid\n",
    "buy = beerMarket\\\n",
    "    .filter(beerMarket.supply > 0)\\\n",
    "    .repartition(5)\\\n",
    "    .alias(\"buy\")\n",
    "\n",
    "# Ask\n",
    "sell = beerMarket\\\n",
    "    .filter(beerMarket.demand > 0)\\\n",
    "    .repartition(5)\\\n",
    "    .alias(\"sell\")\n",
    "    \n",
    "computeProfit = udf(lambda supply, buy, demand, sell: \n",
    "                    min(demand, supply) * (sell - buy), IntegerType())\n",
    "    \n",
    "# compute profits between stations\n",
    "profit = buy.join(sell)\\\n",
    "    .select(computeProfit(col(\"buy.supply\"), col(\"buy.buy_price\"), col(\"sell.demand\"), col(\"sell.sell_price\")).alias(\"profit\"), \n",
    "            col(\"buy.station_id\").alias(\"buy_station_id\"), \n",
    "            col(\"sell.station_id\").alias(\"sell_station_id\"))\\\n",
    "    .filter(col(\"profit\") > 0)\n",
    "    \n",
    "# save the result as files\n",
    "#profit.write.mode(\"overwrite\").parquet(\"profit.parquet1\")"
   ]
  },
  {
   "cell_type": "markdown",
   "metadata": {},
   "source": [
    "![](img/DAG2.png)\n",
    "\n",
    "![](img/Parquet.png)"
   ]
  },
  {
   "cell_type": "code",
   "execution_count": 10,
   "metadata": {
    "collapsed": false
   },
   "outputs": [
    {
     "data": {
      "text/html": [
       "<div id=\"c9c93cb9-a0e4-43f0-b6e3-558a1b8de401\" style=\"height: 380px; width: 100%;\" class=\"plotly-graph-div\"></div><script type=\"text/javascript\">require([\"plotly\"], function(Plotly) { window.PLOTLYENV=window.PLOTLYENV || {};window.PLOTLYENV.BASE_URL=\"https://plot.ly\";Plotly.newPlot(\"c9c93cb9-a0e4-43f0-b6e3-558a1b8de401\", [{\"opacity\": 0.75, \"colorscale\": [[0, \"#00083e\"], [0.5, \"#ededee\"], [1, \"#ffffff\"]], \"showscale\": false, \"hoverinfo\": \"none\", \"z\": [[0, 0], [0.5, 0.5], [1, 1], [0.5, 0.5], [1, 1], [0.5, 0.5], [1, 1], [0.5, 0.5], [1, 1], [0.5, 0.5], [1, 1]], \"type\": \"heatmap\"}], {\"yaxis\": {\"showticklabels\": false, \"tick0\": 0.5, \"ticks\": \"\", \"gridwidth\": 2, \"dtick\": 1, \"zeroline\": false, \"autorange\": \"reversed\"}, \"margin\": {\"r\": 0, \"b\": 0, \"l\": 0, \"t\": 0}, \"annotations\": [{\"xref\": \"x1\", \"xanchor\": \"left\", \"yref\": \"y1\", \"text\": \"<b>profit</b>\", \"align\": \"left\", \"y\": 0, \"x\": -0.45, \"font\": {\"color\": \"#ffffff\"}, \"showarrow\": false}, {\"xref\": \"x1\", \"xanchor\": \"left\", \"yref\": \"y1\", \"text\": \"<b>stations</b>\", \"align\": \"left\", \"y\": 0, \"x\": 0.55, \"font\": {\"color\": \"#ffffff\"}, \"showarrow\": false}, {\"xref\": \"x1\", \"xanchor\": \"left\", \"yref\": \"y1\", \"text\": \"1028424852\", \"align\": \"left\", \"y\": 1, \"x\": -0.45, \"font\": {\"color\": \"#000000\"}, \"showarrow\": false}, {\"xref\": \"x1\", \"xanchor\": \"left\", \"yref\": \"y1\", \"text\": \"Nicollier Ring <-> Kidman Ring\", \"align\": \"left\", \"y\": 1, \"x\": 0.55, \"font\": {\"color\": \"#000000\"}, \"showarrow\": false}, {\"xref\": \"x1\", \"xanchor\": \"left\", \"yref\": \"y1\", \"text\": \"1000534080\", \"align\": \"left\", \"y\": 2, \"x\": -0.45, \"font\": {\"color\": \"#000000\"}, \"showarrow\": false}, {\"xref\": \"x1\", \"xanchor\": \"left\", \"yref\": \"y1\", \"text\": \"Nicollier Ring <-> Schwann Port\", \"align\": \"left\", \"y\": 2, \"x\": 0.55, \"font\": {\"color\": \"#000000\"}, \"showarrow\": false}, {\"xref\": \"x1\", \"xanchor\": \"left\", \"yref\": \"y1\", \"text\": \"1000171422\", \"align\": \"left\", \"y\": 3, \"x\": -0.45, \"font\": {\"color\": \"#000000\"}, \"showarrow\": false}, {\"xref\": \"x1\", \"xanchor\": \"left\", \"yref\": \"y1\", \"text\": \"Nicollier Ring <-> Shavyrin Terminal\", \"align\": \"left\", \"y\": 3, \"x\": 0.55, \"font\": {\"color\": \"#000000\"}, \"showarrow\": false}, {\"xref\": \"x1\", \"xanchor\": \"left\", \"yref\": \"y1\", \"text\": \"1000171422\", \"align\": \"left\", \"y\": 4, \"x\": -0.45, \"font\": {\"color\": \"#000000\"}, \"showarrow\": false}, {\"xref\": \"x1\", \"xanchor\": \"left\", \"yref\": \"y1\", \"text\": \"Nicollier Ring <-> Reber Hub\", \"align\": \"left\", \"y\": 4, \"x\": 0.55, \"font\": {\"color\": \"#000000\"}, \"showarrow\": false}, {\"xref\": \"x1\", \"xanchor\": \"left\", \"yref\": \"y1\", \"text\": \"999612432\", \"align\": \"left\", \"y\": 5, \"x\": -0.45, \"font\": {\"color\": \"#000000\"}, \"showarrow\": false}, {\"xref\": \"x1\", \"xanchor\": \"left\", \"yref\": \"y1\", \"text\": \"Kroehl Station <-> Schwann Port\", \"align\": \"left\", \"y\": 5, \"x\": 0.55, \"font\": {\"color\": \"#000000\"}, \"showarrow\": false}, {\"xref\": \"x1\", \"xanchor\": \"left\", \"yref\": \"y1\", \"text\": \"999612432\", \"align\": \"left\", \"y\": 6, \"x\": -0.45, \"font\": {\"color\": \"#000000\"}, \"showarrow\": false}, {\"xref\": \"x1\", \"xanchor\": \"left\", \"yref\": \"y1\", \"text\": \"Kroehl Station <-> Kidman Ring\", \"align\": \"left\", \"y\": 6, \"x\": 0.55, \"font\": {\"color\": \"#000000\"}, \"showarrow\": false}, {\"xref\": \"x1\", \"xanchor\": \"left\", \"yref\": \"y1\", \"text\": \"972150552\", \"align\": \"left\", \"y\": 7, \"x\": -0.45, \"font\": {\"color\": \"#000000\"}, \"showarrow\": false}, {\"xref\": \"x1\", \"xanchor\": \"left\", \"yref\": \"y1\", \"text\": \"Kroehl Station <-> Shavyrin Terminal\", \"align\": \"left\", \"y\": 7, \"x\": 0.55, \"font\": {\"color\": \"#000000\"}, \"showarrow\": false}, {\"xref\": \"x1\", \"xanchor\": \"left\", \"yref\": \"y1\", \"text\": \"972150552\", \"align\": \"left\", \"y\": 8, \"x\": -0.45, \"font\": {\"color\": \"#000000\"}, \"showarrow\": false}, {\"xref\": \"x1\", \"xanchor\": \"left\", \"yref\": \"y1\", \"text\": \"Kroehl Station <-> Reber Hub\", \"align\": \"left\", \"y\": 8, \"x\": 0.55, \"font\": {\"color\": \"#000000\"}, \"showarrow\": false}, {\"xref\": \"x1\", \"xanchor\": \"left\", \"yref\": \"y1\", \"text\": \"968450392\", \"align\": \"left\", \"y\": 9, \"x\": -0.45, \"font\": {\"color\": \"#000000\"}, \"showarrow\": false}, {\"xref\": \"x1\", \"xanchor\": \"left\", \"yref\": \"y1\", \"text\": \"Amundsen City <-> Schwann Port\", \"align\": \"left\", \"y\": 9, \"x\": 0.55, \"font\": {\"color\": \"#000000\"}, \"showarrow\": false}, {\"xref\": \"x1\", \"xanchor\": \"left\", \"yref\": \"y1\", \"text\": \"968450392\", \"align\": \"left\", \"y\": 10, \"x\": -0.45, \"font\": {\"color\": \"#000000\"}, \"showarrow\": false}, {\"xref\": \"x1\", \"xanchor\": \"left\", \"yref\": \"y1\", \"text\": \"Amundsen City <-> Kidman Ring\", \"align\": \"left\", \"y\": 10, \"x\": 0.55, \"font\": {\"color\": \"#000000\"}, \"showarrow\": false}], \"xaxis\": {\"showticklabels\": false, \"tick0\": -0.5, \"ticks\": \"\", \"gridwidth\": 2, \"dtick\": 1, \"zeroline\": false}, \"height\": 380}, {\"linkText\": \"Export to plot.ly\", \"showLink\": true})});</script>"
      ],
      "text/plain": [
       "<IPython.core.display.HTML object>"
      ]
     },
     "metadata": {},
     "output_type": "display_data"
    }
   ],
   "source": [
    "from pyspark.sql.functions import col, concat, concat_ws\n",
    "\n",
    "# Get the stations\n",
    "buy_stations = stations.alias(\"buy_station\")\n",
    "sell_stations = stations.alias(\"sell_station\")\n",
    "\n",
    "# Get top 10 profit between stations\n",
    "profitParquet = sqlContext.read.parquet(\"profit.parquet\")\n",
    "\n",
    "df = profitParquet\\\n",
    "    .sort(profitParquet.profit.desc())\\\n",
    "    .limit(10)\\\n",
    "    .join(buy_stations, profitParquet.buy_station_id == col(\"buy_station.id\"))\\\n",
    "    .join(sell_stations, profitParquet.sell_station_id == col(\"sell_station.id\"))\\\n",
    "    .select(profitParquet.profit, concat_ws(\" <-> \", col(\"buy_station.name\"), col(\"sell_station.name\")).alias(\"stations\"))\\\n",
    "    .toPandas()\n",
    "\n",
    "table = ff.create_table(df.sort_values(by=['profit'], ascending=[0]))\n",
    "iplot(table, filename='profit_table')"
   ]
  },
  {
   "cell_type": "code",
   "execution_count": null,
   "metadata": {
    "collapsed": true
   },
   "outputs": [],
   "source": []
  }
 ],
 "metadata": {
  "kernelspec": {
   "display_name": "PySpark",
   "language": "python",
   "name": "pysparkkernel"
  },
  "language_info": {
   "codemirror_mode": {
    "name": "ipython",
    "version": 2
   },
   "file_extension": ".py",
   "mimetype": "text/x-python",
   "name": "python",
   "nbconvert_exporter": "python",
   "pygments_lexer": "ipython2",
   "version": "2.7.13"
  }
 },
 "nbformat": 4,
 "nbformat_minor": 2
}
