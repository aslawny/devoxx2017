{
 "cells": [
  {
   "cell_type": "markdown",
   "metadata": {},
   "source": [
    "# Elite Dangerous Tradings\n",
    "\n",
    "Get the data from https://eddb.io/api\n",
    "\n",
    "### Find the cheapest beer of the galaxy !!!\n",
    "\n",
    "![](Elite Dangerous Tiles3.png)\n",
    "\n",
    "![](Milky Way.png)"
   ]
  },
  {
   "cell_type": "markdown",
   "metadata": {},
   "source": [
    "# 1. Load the Data"
   ]
  },
  {
   "cell_type": "code",
   "execution_count": 9,
   "metadata": {
    "collapsed": false
   },
   "outputs": [
    {
     "data": {
      "text/html": [
       "<script>requirejs.config({paths: { 'plotly': ['https://cdn.plot.ly/plotly-latest.min']},});if(!window.Plotly) {{require(['plotly'],function(plotly) {window.Plotly=plotly;});}}</script>"
      ],
      "text/plain": [
       "<IPython.core.display.HTML object>"
      ]
     },
     "metadata": {},
     "output_type": "display_data"
    },
    {
     "data": {
      "text/html": [
       "<a href=\"http://lenovo02.localdomain:8088/proxy/application_1488011245059_0003\">http://lenovo02.localdomain:8088/proxy/application_1488011245059_0003</a>"
      ],
      "text/plain": [
       "<IPython.core.display.HTML object>"
      ]
     },
     "metadata": {},
     "output_type": "display_data"
    }
   ],
   "source": [
    "from plotly.offline import download_plotlyjs, init_notebook_mode, plot, iplot\n",
    "import plotly.graph_objs as go\n",
    "import plotly.figure_factory as ff\n",
    "\n",
    "init_notebook_mode(connected=True)\n",
    "\n",
    "# get the application Id and print the tracking URL\n",
    "applicationId = sc._jsc.sc().applicationId()\n",
    "trackingUrl = 'http://lenovo02.localdomain:8088/proxy/'+applicationId\n",
    "\n",
    "from IPython.core.display import display, HTML\n",
    "display(HTML('<a href=\"'+trackingUrl+'\">'+trackingUrl+'</a>'))"
   ]
  },
  {
   "cell_type": "code",
   "execution_count": 10,
   "metadata": {
    "collapsed": false
   },
   "outputs": [],
   "source": [
    "# Load stations\n",
    "pathStations = \"/user/mathias/stations.jsonl\"\n",
    "stations = sqlContext.read.json(pathStations)\n",
    "\n",
    "# Load systems\n",
    "pathSystems = \"/user/mathias/systems_populated.jsonl\"\n",
    "systems = sqlContext.read.json(pathSystems)\n",
    "\n",
    "# Load commodities\n",
    "pathCommodities = \"/user/mathias/commodities.json\"\n",
    "commodities = sqlContext.read.json(pathCommodities)\n",
    "commodities = commodities.select(commodities.average_price, commodities.category.name, commodities.category_id, commodities.id, commodities.is_rare, commodities.name)\n",
    "\n",
    "# Filter only Beer commodities\n",
    "commoditiesBeers = commodities.filter((commodities.id == 8) | (commodities.id == 202))\n",
    "\n",
    "# Load market prices\n",
    "pathMarket = \"/user/mathias/listings.csv\"\n",
    "market = sqlContext.read.format(\"com.databricks.spark.csv\").option(\"header\", \"true\").option(\"inferSchema\", \"true\").load(pathMarket)\n",
    "\n",
    "# Filter only Beer prices\n",
    "beerMarket = market.filter((market.commodity_id == 8) | (market.commodity_id == 202))"
   ]
  },
  {
   "cell_type": "code",
   "execution_count": 11,
   "metadata": {
    "collapsed": false
   },
   "outputs": [
    {
     "data": {
      "text/html": [
       "<div id=\"a1ef4abb-fd57-474b-84c4-316d0e22f346\" style=\"height: 140px; width: 100%;\" class=\"plotly-graph-div\"></div><script type=\"text/javascript\">require([\"plotly\"], function(Plotly) { window.PLOTLYENV=window.PLOTLYENV || {};window.PLOTLYENV.BASE_URL=\"https://plot.ly\";Plotly.newPlot(\"a1ef4abb-fd57-474b-84c4-316d0e22f346\", [{\"opacity\": 0.75, \"colorscale\": [[0, \"#00083e\"], [0.5, \"#ededee\"], [1, \"#ffffff\"]], \"showscale\": false, \"hoverinfo\": \"none\", \"z\": [[0, 0, 0, 0, 0, 0], [0.5, 0.5, 0.5, 0.5, 0.5, 0.5], [1, 1, 1, 1, 1, 1]], \"type\": \"heatmap\"}], {\"yaxis\": {\"showticklabels\": false, \"tick0\": 0.5, \"ticks\": \"\", \"gridwidth\": 2, \"dtick\": 1, \"zeroline\": false, \"autorange\": \"reversed\"}, \"margin\": {\"r\": 0, \"b\": 0, \"l\": 0, \"t\": 0}, \"annotations\": [{\"xref\": \"x1\", \"xanchor\": \"left\", \"yref\": \"y1\", \"text\": \"<b>average_price</b>\", \"align\": \"left\", \"y\": 0, \"x\": -0.45, \"font\": {\"color\": \"#ffffff\"}, \"showarrow\": false}, {\"xref\": \"x1\", \"xanchor\": \"left\", \"yref\": \"y1\", \"text\": \"<b>category[name]</b>\", \"align\": \"left\", \"y\": 0, \"x\": 0.55, \"font\": {\"color\": \"#ffffff\"}, \"showarrow\": false}, {\"xref\": \"x1\", \"xanchor\": \"left\", \"yref\": \"y1\", \"text\": \"<b>category_id</b>\", \"align\": \"left\", \"y\": 0, \"x\": 1.55, \"font\": {\"color\": \"#ffffff\"}, \"showarrow\": false}, {\"xref\": \"x1\", \"xanchor\": \"left\", \"yref\": \"y1\", \"text\": \"<b>id</b>\", \"align\": \"left\", \"y\": 0, \"x\": 2.55, \"font\": {\"color\": \"#ffffff\"}, \"showarrow\": false}, {\"xref\": \"x1\", \"xanchor\": \"left\", \"yref\": \"y1\", \"text\": \"<b>is_rare</b>\", \"align\": \"left\", \"y\": 0, \"x\": 3.55, \"font\": {\"color\": \"#ffffff\"}, \"showarrow\": false}, {\"xref\": \"x1\", \"xanchor\": \"left\", \"yref\": \"y1\", \"text\": \"<b>name</b>\", \"align\": \"left\", \"y\": 0, \"x\": 4.55, \"font\": {\"color\": \"#ffffff\"}, \"showarrow\": false}, {\"xref\": \"x1\", \"xanchor\": \"left\", \"yref\": \"y1\", \"text\": \"186\", \"align\": \"left\", \"y\": 1, \"x\": -0.45, \"font\": {\"color\": \"#000000\"}, \"showarrow\": false}, {\"xref\": \"x1\", \"xanchor\": \"left\", \"yref\": \"y1\", \"text\": \"Legal Drugs\", \"align\": \"left\", \"y\": 1, \"x\": 0.55, \"font\": {\"color\": \"#000000\"}, \"showarrow\": false}, {\"xref\": \"x1\", \"xanchor\": \"left\", \"yref\": \"y1\", \"text\": \"3\", \"align\": \"left\", \"y\": 1, \"x\": 1.55, \"font\": {\"color\": \"#000000\"}, \"showarrow\": false}, {\"xref\": \"x1\", \"xanchor\": \"left\", \"yref\": \"y1\", \"text\": \"8\", \"align\": \"left\", \"y\": 1, \"x\": 2.55, \"font\": {\"color\": \"#000000\"}, \"showarrow\": false}, {\"xref\": \"x1\", \"xanchor\": \"left\", \"yref\": \"y1\", \"text\": \"0\", \"align\": \"left\", \"y\": 1, \"x\": 3.55, \"font\": {\"color\": \"#000000\"}, \"showarrow\": false}, {\"xref\": \"x1\", \"xanchor\": \"left\", \"yref\": \"y1\", \"text\": \"Beer\", \"align\": \"left\", \"y\": 1, \"x\": 4.55, \"font\": {\"color\": \"#000000\"}, \"showarrow\": false}, {\"xref\": \"x1\", \"xanchor\": \"left\", \"yref\": \"y1\", \"text\": \"8215\", \"align\": \"left\", \"y\": 2, \"x\": -0.45, \"font\": {\"color\": \"#000000\"}, \"showarrow\": false}, {\"xref\": \"x1\", \"xanchor\": \"left\", \"yref\": \"y1\", \"text\": \"Legal Drugs\", \"align\": \"left\", \"y\": 2, \"x\": 0.55, \"font\": {\"color\": \"#000000\"}, \"showarrow\": false}, {\"xref\": \"x1\", \"xanchor\": \"left\", \"yref\": \"y1\", \"text\": \"3\", \"align\": \"left\", \"y\": 2, \"x\": 1.55, \"font\": {\"color\": \"#000000\"}, \"showarrow\": false}, {\"xref\": \"x1\", \"xanchor\": \"left\", \"yref\": \"y1\", \"text\": \"202\", \"align\": \"left\", \"y\": 2, \"x\": 2.55, \"font\": {\"color\": \"#000000\"}, \"showarrow\": false}, {\"xref\": \"x1\", \"xanchor\": \"left\", \"yref\": \"y1\", \"text\": \"1\", \"align\": \"left\", \"y\": 2, \"x\": 3.55, \"font\": {\"color\": \"#000000\"}, \"showarrow\": false}, {\"xref\": \"x1\", \"xanchor\": \"left\", \"yref\": \"y1\", \"text\": \"Gerasian Gueuze Beer\", \"align\": \"left\", \"y\": 2, \"x\": 4.55, \"font\": {\"color\": \"#000000\"}, \"showarrow\": false}], \"xaxis\": {\"showticklabels\": false, \"tick0\": -0.5, \"ticks\": \"\", \"gridwidth\": 2, \"dtick\": 1, \"zeroline\": false}, \"height\": 140}, {\"linkText\": \"Export to plot.ly\", \"showLink\": true})});</script>"
      ],
      "text/plain": [
       "<IPython.core.display.HTML object>"
      ]
     },
     "metadata": {},
     "output_type": "display_data"
    }
   ],
   "source": [
    "# Display type of beers\n",
    "table = ff.create_table(commoditiesBeers.limit(10).toPandas())\n",
    "iplot(table, filename='commodities_table')"
   ]
  },
  {
   "cell_type": "code",
   "execution_count": 12,
   "metadata": {
    "collapsed": false
   },
   "outputs": [
    {
     "data": {
      "text/html": [
       "<div id=\"41d6be0e-f65b-4d4e-aed7-f67142e0e7e7\" style=\"height: 380px; width: 100%;\" class=\"plotly-graph-div\"></div><script type=\"text/javascript\">require([\"plotly\"], function(Plotly) { window.PLOTLYENV=window.PLOTLYENV || {};window.PLOTLYENV.BASE_URL=\"https://plot.ly\";Plotly.newPlot(\"41d6be0e-f65b-4d4e-aed7-f67142e0e7e7\", [{\"opacity\": 0.75, \"colorscale\": [[0, \"#00083e\"], [0.5, \"#ededee\"], [1, \"#ffffff\"]], \"showscale\": false, \"hoverinfo\": \"none\", \"z\": [[0, 0, 0, 0, 0, 0, 0, 0], [0.5, 0.5, 0.5, 0.5, 0.5, 0.5, 0.5, 0.5], [1, 1, 1, 1, 1, 1, 1, 1], [0.5, 0.5, 0.5, 0.5, 0.5, 0.5, 0.5, 0.5], [1, 1, 1, 1, 1, 1, 1, 1], [0.5, 0.5, 0.5, 0.5, 0.5, 0.5, 0.5, 0.5], [1, 1, 1, 1, 1, 1, 1, 1], [0.5, 0.5, 0.5, 0.5, 0.5, 0.5, 0.5, 0.5], [1, 1, 1, 1, 1, 1, 1, 1], [0.5, 0.5, 0.5, 0.5, 0.5, 0.5, 0.5, 0.5], [1, 1, 1, 1, 1, 1, 1, 1]], \"type\": \"heatmap\"}], {\"yaxis\": {\"showticklabels\": false, \"tick0\": 0.5, \"ticks\": \"\", \"gridwidth\": 2, \"dtick\": 1, \"zeroline\": false, \"autorange\": \"reversed\"}, \"margin\": {\"r\": 0, \"b\": 0, \"l\": 0, \"t\": 0}, \"annotations\": [{\"xref\": \"x1\", \"xanchor\": \"left\", \"yref\": \"y1\", \"text\": \"<b>id</b>\", \"align\": \"left\", \"y\": 0, \"x\": -0.45, \"font\": {\"color\": \"#ffffff\"}, \"showarrow\": false}, {\"xref\": \"x1\", \"xanchor\": \"left\", \"yref\": \"y1\", \"text\": \"<b>station_id</b>\", \"align\": \"left\", \"y\": 0, \"x\": 0.55, \"font\": {\"color\": \"#ffffff\"}, \"showarrow\": false}, {\"xref\": \"x1\", \"xanchor\": \"left\", \"yref\": \"y1\", \"text\": \"<b>commodity_id</b>\", \"align\": \"left\", \"y\": 0, \"x\": 1.55, \"font\": {\"color\": \"#ffffff\"}, \"showarrow\": false}, {\"xref\": \"x1\", \"xanchor\": \"left\", \"yref\": \"y1\", \"text\": \"<b>supply</b>\", \"align\": \"left\", \"y\": 0, \"x\": 2.55, \"font\": {\"color\": \"#ffffff\"}, \"showarrow\": false}, {\"xref\": \"x1\", \"xanchor\": \"left\", \"yref\": \"y1\", \"text\": \"<b>buy_price</b>\", \"align\": \"left\", \"y\": 0, \"x\": 3.55, \"font\": {\"color\": \"#ffffff\"}, \"showarrow\": false}, {\"xref\": \"x1\", \"xanchor\": \"left\", \"yref\": \"y1\", \"text\": \"<b>sell_price</b>\", \"align\": \"left\", \"y\": 0, \"x\": 4.55, \"font\": {\"color\": \"#ffffff\"}, \"showarrow\": false}, {\"xref\": \"x1\", \"xanchor\": \"left\", \"yref\": \"y1\", \"text\": \"<b>demand</b>\", \"align\": \"left\", \"y\": 0, \"x\": 5.55, \"font\": {\"color\": \"#ffffff\"}, \"showarrow\": false}, {\"xref\": \"x1\", \"xanchor\": \"left\", \"yref\": \"y1\", \"text\": \"<b>collected_at</b>\", \"align\": \"left\", \"y\": 0, \"x\": 6.55, \"font\": {\"color\": \"#ffffff\"}, \"showarrow\": false}, {\"xref\": \"x1\", \"xanchor\": \"left\", \"yref\": \"y1\", \"text\": \"1113261\", \"align\": \"left\", \"y\": 1, \"x\": -0.45, \"font\": {\"color\": \"#000000\"}, \"showarrow\": false}, {\"xref\": \"x1\", \"xanchor\": \"left\", \"yref\": \"y1\", \"text\": \"24257\", \"align\": \"left\", \"y\": 1, \"x\": 0.55, \"font\": {\"color\": \"#000000\"}, \"showarrow\": false}, {\"xref\": \"x1\", \"xanchor\": \"left\", \"yref\": \"y1\", \"text\": \"8\", \"align\": \"left\", \"y\": 1, \"x\": 1.55, \"font\": {\"color\": \"#000000\"}, \"showarrow\": false}, {\"xref\": \"x1\", \"xanchor\": \"left\", \"yref\": \"y1\", \"text\": \"0\", \"align\": \"left\", \"y\": 1, \"x\": 2.55, \"font\": {\"color\": \"#000000\"}, \"showarrow\": false}, {\"xref\": \"x1\", \"xanchor\": \"left\", \"yref\": \"y1\", \"text\": \"0\", \"align\": \"left\", \"y\": 1, \"x\": 3.55, \"font\": {\"color\": \"#000000\"}, \"showarrow\": false}, {\"xref\": \"x1\", \"xanchor\": \"left\", \"yref\": \"y1\", \"text\": \"175\", \"align\": \"left\", \"y\": 1, \"x\": 4.55, \"font\": {\"color\": \"#000000\"}, \"showarrow\": false}, {\"xref\": \"x1\", \"xanchor\": \"left\", \"yref\": \"y1\", \"text\": \"78892\", \"align\": \"left\", \"y\": 1, \"x\": 5.55, \"font\": {\"color\": \"#000000\"}, \"showarrow\": false}, {\"xref\": \"x1\", \"xanchor\": \"left\", \"yref\": \"y1\", \"text\": \"1486028711\", \"align\": \"left\", \"y\": 1, \"x\": 6.55, \"font\": {\"color\": \"#000000\"}, \"showarrow\": false}, {\"xref\": \"x1\", \"xanchor\": \"left\", \"yref\": \"y1\", \"text\": \"1112518\", \"align\": \"left\", \"y\": 2, \"x\": -0.45, \"font\": {\"color\": \"#000000\"}, \"showarrow\": false}, {\"xref\": \"x1\", \"xanchor\": \"left\", \"yref\": \"y1\", \"text\": \"24258\", \"align\": \"left\", \"y\": 2, \"x\": 0.55, \"font\": {\"color\": \"#000000\"}, \"showarrow\": false}, {\"xref\": \"x1\", \"xanchor\": \"left\", \"yref\": \"y1\", \"text\": \"8\", \"align\": \"left\", \"y\": 2, \"x\": 1.55, \"font\": {\"color\": \"#000000\"}, \"showarrow\": false}, {\"xref\": \"x1\", \"xanchor\": \"left\", \"yref\": \"y1\", \"text\": \"0\", \"align\": \"left\", \"y\": 2, \"x\": 2.55, \"font\": {\"color\": \"#000000\"}, \"showarrow\": false}, {\"xref\": \"x1\", \"xanchor\": \"left\", \"yref\": \"y1\", \"text\": \"0\", \"align\": \"left\", \"y\": 2, \"x\": 3.55, \"font\": {\"color\": \"#000000\"}, \"showarrow\": false}, {\"xref\": \"x1\", \"xanchor\": \"left\", \"yref\": \"y1\", \"text\": \"375\", \"align\": \"left\", \"y\": 2, \"x\": 4.55, \"font\": {\"color\": \"#000000\"}, \"showarrow\": false}, {\"xref\": \"x1\", \"xanchor\": \"left\", \"yref\": \"y1\", \"text\": \"394032\", \"align\": \"left\", \"y\": 2, \"x\": 5.55, \"font\": {\"color\": \"#000000\"}, \"showarrow\": false}, {\"xref\": \"x1\", \"xanchor\": \"left\", \"yref\": \"y1\", \"text\": \"1484690653\", \"align\": \"left\", \"y\": 2, \"x\": 6.55, \"font\": {\"color\": \"#000000\"}, \"showarrow\": false}, {\"xref\": \"x1\", \"xanchor\": \"left\", \"yref\": \"y1\", \"text\": \"1235189\", \"align\": \"left\", \"y\": 3, \"x\": -0.45, \"font\": {\"color\": \"#000000\"}, \"showarrow\": false}, {\"xref\": \"x1\", \"xanchor\": \"left\", \"yref\": \"y1\", \"text\": \"24259\", \"align\": \"left\", \"y\": 3, \"x\": 0.55, \"font\": {\"color\": \"#000000\"}, \"showarrow\": false}, {\"xref\": \"x1\", \"xanchor\": \"left\", \"yref\": \"y1\", \"text\": \"8\", \"align\": \"left\", \"y\": 3, \"x\": 1.55, \"font\": {\"color\": \"#000000\"}, \"showarrow\": false}, {\"xref\": \"x1\", \"xanchor\": \"left\", \"yref\": \"y1\", \"text\": \"0\", \"align\": \"left\", \"y\": 3, \"x\": 2.55, \"font\": {\"color\": \"#000000\"}, \"showarrow\": false}, {\"xref\": \"x1\", \"xanchor\": \"left\", \"yref\": \"y1\", \"text\": \"0\", \"align\": \"left\", \"y\": 3, \"x\": 3.55, \"font\": {\"color\": \"#000000\"}, \"showarrow\": false}, {\"xref\": \"x1\", \"xanchor\": \"left\", \"yref\": \"y1\", \"text\": \"396\", \"align\": \"left\", \"y\": 3, \"x\": 4.55, \"font\": {\"color\": \"#000000\"}, \"showarrow\": false}, {\"xref\": \"x1\", \"xanchor\": \"left\", \"yref\": \"y1\", \"text\": \"477318\", \"align\": \"left\", \"y\": 3, \"x\": 5.55, \"font\": {\"color\": \"#000000\"}, \"showarrow\": false}, {\"xref\": \"x1\", \"xanchor\": \"left\", \"yref\": \"y1\", \"text\": \"1485810753\", \"align\": \"left\", \"y\": 3, \"x\": 6.55, \"font\": {\"color\": \"#000000\"}, \"showarrow\": false}, {\"xref\": \"x1\", \"xanchor\": \"left\", \"yref\": \"y1\", \"text\": \"1332609\", \"align\": \"left\", \"y\": 4, \"x\": -0.45, \"font\": {\"color\": \"#000000\"}, \"showarrow\": false}, {\"xref\": \"x1\", \"xanchor\": \"left\", \"yref\": \"y1\", \"text\": \"24262\", \"align\": \"left\", \"y\": 4, \"x\": 0.55, \"font\": {\"color\": \"#000000\"}, \"showarrow\": false}, {\"xref\": \"x1\", \"xanchor\": \"left\", \"yref\": \"y1\", \"text\": \"8\", \"align\": \"left\", \"y\": 4, \"x\": 1.55, \"font\": {\"color\": \"#000000\"}, \"showarrow\": false}, {\"xref\": \"x1\", \"xanchor\": \"left\", \"yref\": \"y1\", \"text\": \"0\", \"align\": \"left\", \"y\": 4, \"x\": 2.55, \"font\": {\"color\": \"#000000\"}, \"showarrow\": false}, {\"xref\": \"x1\", \"xanchor\": \"left\", \"yref\": \"y1\", \"text\": \"0\", \"align\": \"left\", \"y\": 4, \"x\": 3.55, \"font\": {\"color\": \"#000000\"}, \"showarrow\": false}, {\"xref\": \"x1\", \"xanchor\": \"left\", \"yref\": \"y1\", \"text\": \"430\", \"align\": \"left\", \"y\": 4, \"x\": 4.55, \"font\": {\"color\": \"#000000\"}, \"showarrow\": false}, {\"xref\": \"x1\", \"xanchor\": \"left\", \"yref\": \"y1\", \"text\": \"404768\", \"align\": \"left\", \"y\": 4, \"x\": 5.55, \"font\": {\"color\": \"#000000\"}, \"showarrow\": false}, {\"xref\": \"x1\", \"xanchor\": \"left\", \"yref\": \"y1\", \"text\": \"1482432322\", \"align\": \"left\", \"y\": 4, \"x\": 6.55, \"font\": {\"color\": \"#000000\"}, \"showarrow\": false}, {\"xref\": \"x1\", \"xanchor\": \"left\", \"yref\": \"y1\", \"text\": \"2980115\", \"align\": \"left\", \"y\": 5, \"x\": -0.45, \"font\": {\"color\": \"#000000\"}, \"showarrow\": false}, {\"xref\": \"x1\", \"xanchor\": \"left\", \"yref\": \"y1\", \"text\": \"24263\", \"align\": \"left\", \"y\": 5, \"x\": 0.55, \"font\": {\"color\": \"#000000\"}, \"showarrow\": false}, {\"xref\": \"x1\", \"xanchor\": \"left\", \"yref\": \"y1\", \"text\": \"8\", \"align\": \"left\", \"y\": 5, \"x\": 1.55, \"font\": {\"color\": \"#000000\"}, \"showarrow\": false}, {\"xref\": \"x1\", \"xanchor\": \"left\", \"yref\": \"y1\", \"text\": \"0\", \"align\": \"left\", \"y\": 5, \"x\": 2.55, \"font\": {\"color\": \"#000000\"}, \"showarrow\": false}, {\"xref\": \"x1\", \"xanchor\": \"left\", \"yref\": \"y1\", \"text\": \"0\", \"align\": \"left\", \"y\": 5, \"x\": 3.55, \"font\": {\"color\": \"#000000\"}, \"showarrow\": false}, {\"xref\": \"x1\", \"xanchor\": \"left\", \"yref\": \"y1\", \"text\": \"343\", \"align\": \"left\", \"y\": 5, \"x\": 4.55, \"font\": {\"color\": \"#000000\"}, \"showarrow\": false}, {\"xref\": \"x1\", \"xanchor\": \"left\", \"yref\": \"y1\", \"text\": \"4278\", \"align\": \"left\", \"y\": 5, \"x\": 5.55, \"font\": {\"color\": \"#000000\"}, \"showarrow\": false}, {\"xref\": \"x1\", \"xanchor\": \"left\", \"yref\": \"y1\", \"text\": \"1480028457\", \"align\": \"left\", \"y\": 5, \"x\": 6.55, \"font\": {\"color\": \"#000000\"}, \"showarrow\": false}, {\"xref\": \"x1\", \"xanchor\": \"left\", \"yref\": \"y1\", \"text\": \"1535384\", \"align\": \"left\", \"y\": 6, \"x\": -0.45, \"font\": {\"color\": \"#000000\"}, \"showarrow\": false}, {\"xref\": \"x1\", \"xanchor\": \"left\", \"yref\": \"y1\", \"text\": \"24264\", \"align\": \"left\", \"y\": 6, \"x\": 0.55, \"font\": {\"color\": \"#000000\"}, \"showarrow\": false}, {\"xref\": \"x1\", \"xanchor\": \"left\", \"yref\": \"y1\", \"text\": \"8\", \"align\": \"left\", \"y\": 6, \"x\": 1.55, \"font\": {\"color\": \"#000000\"}, \"showarrow\": false}, {\"xref\": \"x1\", \"xanchor\": \"left\", \"yref\": \"y1\", \"text\": \"0\", \"align\": \"left\", \"y\": 6, \"x\": 2.55, \"font\": {\"color\": \"#000000\"}, \"showarrow\": false}, {\"xref\": \"x1\", \"xanchor\": \"left\", \"yref\": \"y1\", \"text\": \"0\", \"align\": \"left\", \"y\": 6, \"x\": 3.55, \"font\": {\"color\": \"#000000\"}, \"showarrow\": false}, {\"xref\": \"x1\", \"xanchor\": \"left\", \"yref\": \"y1\", \"text\": \"343\", \"align\": \"left\", \"y\": 6, \"x\": 4.55, \"font\": {\"color\": \"#000000\"}, \"showarrow\": false}, {\"xref\": \"x1\", \"xanchor\": \"left\", \"yref\": \"y1\", \"text\": \"3454\", \"align\": \"left\", \"y\": 6, \"x\": 5.55, \"font\": {\"color\": \"#000000\"}, \"showarrow\": false}, {\"xref\": \"x1\", \"xanchor\": \"left\", \"yref\": \"y1\", \"text\": \"1480028912\", \"align\": \"left\", \"y\": 6, \"x\": 6.55, \"font\": {\"color\": \"#000000\"}, \"showarrow\": false}, {\"xref\": \"x1\", \"xanchor\": \"left\", \"yref\": \"y1\", \"text\": \"1020388\", \"align\": \"left\", \"y\": 7, \"x\": -0.45, \"font\": {\"color\": \"#000000\"}, \"showarrow\": false}, {\"xref\": \"x1\", \"xanchor\": \"left\", \"yref\": \"y1\", \"text\": \"24265\", \"align\": \"left\", \"y\": 7, \"x\": 0.55, \"font\": {\"color\": \"#000000\"}, \"showarrow\": false}, {\"xref\": \"x1\", \"xanchor\": \"left\", \"yref\": \"y1\", \"text\": \"8\", \"align\": \"left\", \"y\": 7, \"x\": 1.55, \"font\": {\"color\": \"#000000\"}, \"showarrow\": false}, {\"xref\": \"x1\", \"xanchor\": \"left\", \"yref\": \"y1\", \"text\": \"0\", \"align\": \"left\", \"y\": 7, \"x\": 2.55, \"font\": {\"color\": \"#000000\"}, \"showarrow\": false}, {\"xref\": \"x1\", \"xanchor\": \"left\", \"yref\": \"y1\", \"text\": \"0\", \"align\": \"left\", \"y\": 7, \"x\": 3.55, \"font\": {\"color\": \"#000000\"}, \"showarrow\": false}, {\"xref\": \"x1\", \"xanchor\": \"left\", \"yref\": \"y1\", \"text\": \"389\", \"align\": \"left\", \"y\": 7, \"x\": 4.55, \"font\": {\"color\": \"#000000\"}, \"showarrow\": false}, {\"xref\": \"x1\", \"xanchor\": \"left\", \"yref\": \"y1\", \"text\": \"11553\", \"align\": \"left\", \"y\": 7, \"x\": 5.55, \"font\": {\"color\": \"#000000\"}, \"showarrow\": false}, {\"xref\": \"x1\", \"xanchor\": \"left\", \"yref\": \"y1\", \"text\": \"1485349084\", \"align\": \"left\", \"y\": 7, \"x\": 6.55, \"font\": {\"color\": \"#000000\"}, \"showarrow\": false}, {\"xref\": \"x1\", \"xanchor\": \"left\", \"yref\": \"y1\", \"text\": \"2947578\", \"align\": \"left\", \"y\": 8, \"x\": -0.45, \"font\": {\"color\": \"#000000\"}, \"showarrow\": false}, {\"xref\": \"x1\", \"xanchor\": \"left\", \"yref\": \"y1\", \"text\": \"24266\", \"align\": \"left\", \"y\": 8, \"x\": 0.55, \"font\": {\"color\": \"#000000\"}, \"showarrow\": false}, {\"xref\": \"x1\", \"xanchor\": \"left\", \"yref\": \"y1\", \"text\": \"8\", \"align\": \"left\", \"y\": 8, \"x\": 1.55, \"font\": {\"color\": \"#000000\"}, \"showarrow\": false}, {\"xref\": \"x1\", \"xanchor\": \"left\", \"yref\": \"y1\", \"text\": \"0\", \"align\": \"left\", \"y\": 8, \"x\": 2.55, \"font\": {\"color\": \"#000000\"}, \"showarrow\": false}, {\"xref\": \"x1\", \"xanchor\": \"left\", \"yref\": \"y1\", \"text\": \"0\", \"align\": \"left\", \"y\": 8, \"x\": 3.55, \"font\": {\"color\": \"#000000\"}, \"showarrow\": false}, {\"xref\": \"x1\", \"xanchor\": \"left\", \"yref\": \"y1\", \"text\": \"396\", \"align\": \"left\", \"y\": 8, \"x\": 4.55, \"font\": {\"color\": \"#000000\"}, \"showarrow\": false}, {\"xref\": \"x1\", \"xanchor\": \"left\", \"yref\": \"y1\", \"text\": \"6666\", \"align\": \"left\", \"y\": 8, \"x\": 5.55, \"font\": {\"color\": \"#000000\"}, \"showarrow\": false}, {\"xref\": \"x1\", \"xanchor\": \"left\", \"yref\": \"y1\", \"text\": \"1483145551\", \"align\": \"left\", \"y\": 8, \"x\": 6.55, \"font\": {\"color\": \"#000000\"}, \"showarrow\": false}, {\"xref\": \"x1\", \"xanchor\": \"left\", \"yref\": \"y1\", \"text\": \"1321692\", \"align\": \"left\", \"y\": 9, \"x\": -0.45, \"font\": {\"color\": \"#000000\"}, \"showarrow\": false}, {\"xref\": \"x1\", \"xanchor\": \"left\", \"yref\": \"y1\", \"text\": \"24267\", \"align\": \"left\", \"y\": 9, \"x\": 0.55, \"font\": {\"color\": \"#000000\"}, \"showarrow\": false}, {\"xref\": \"x1\", \"xanchor\": \"left\", \"yref\": \"y1\", \"text\": \"8\", \"align\": \"left\", \"y\": 9, \"x\": 1.55, \"font\": {\"color\": \"#000000\"}, \"showarrow\": false}, {\"xref\": \"x1\", \"xanchor\": \"left\", \"yref\": \"y1\", \"text\": \"0\", \"align\": \"left\", \"y\": 9, \"x\": 2.55, \"font\": {\"color\": \"#000000\"}, \"showarrow\": false}, {\"xref\": \"x1\", \"xanchor\": \"left\", \"yref\": \"y1\", \"text\": \"0\", \"align\": \"left\", \"y\": 9, \"x\": 3.55, \"font\": {\"color\": \"#000000\"}, \"showarrow\": false}, {\"xref\": \"x1\", \"xanchor\": \"left\", \"yref\": \"y1\", \"text\": \"175\", \"align\": \"left\", \"y\": 9, \"x\": 4.55, \"font\": {\"color\": \"#000000\"}, \"showarrow\": false}, {\"xref\": \"x1\", \"xanchor\": \"left\", \"yref\": \"y1\", \"text\": \"2269\", \"align\": \"left\", \"y\": 9, \"x\": 5.55, \"font\": {\"color\": \"#000000\"}, \"showarrow\": false}, {\"xref\": \"x1\", \"xanchor\": \"left\", \"yref\": \"y1\", \"text\": \"1484980856\", \"align\": \"left\", \"y\": 9, \"x\": 6.55, \"font\": {\"color\": \"#000000\"}, \"showarrow\": false}, {\"xref\": \"x1\", \"xanchor\": \"left\", \"yref\": \"y1\", \"text\": \"1916635\", \"align\": \"left\", \"y\": 10, \"x\": -0.45, \"font\": {\"color\": \"#000000\"}, \"showarrow\": false}, {\"xref\": \"x1\", \"xanchor\": \"left\", \"yref\": \"y1\", \"text\": \"24268\", \"align\": \"left\", \"y\": 10, \"x\": 0.55, \"font\": {\"color\": \"#000000\"}, \"showarrow\": false}, {\"xref\": \"x1\", \"xanchor\": \"left\", \"yref\": \"y1\", \"text\": \"8\", \"align\": \"left\", \"y\": 10, \"x\": 1.55, \"font\": {\"color\": \"#000000\"}, \"showarrow\": false}, {\"xref\": \"x1\", \"xanchor\": \"left\", \"yref\": \"y1\", \"text\": \"0\", \"align\": \"left\", \"y\": 10, \"x\": 2.55, \"font\": {\"color\": \"#000000\"}, \"showarrow\": false}, {\"xref\": \"x1\", \"xanchor\": \"left\", \"yref\": \"y1\", \"text\": \"0\", \"align\": \"left\", \"y\": 10, \"x\": 3.55, \"font\": {\"color\": \"#000000\"}, \"showarrow\": false}, {\"xref\": \"x1\", \"xanchor\": \"left\", \"yref\": \"y1\", \"text\": \"175\", \"align\": \"left\", \"y\": 10, \"x\": 4.55, \"font\": {\"color\": \"#000000\"}, \"showarrow\": false}, {\"xref\": \"x1\", \"xanchor\": \"left\", \"yref\": \"y1\", \"text\": \"1965\", \"align\": \"left\", \"y\": 10, \"x\": 5.55, \"font\": {\"color\": \"#000000\"}, \"showarrow\": false}, {\"xref\": \"x1\", \"xanchor\": \"left\", \"yref\": \"y1\", \"text\": \"1485391610\", \"align\": \"left\", \"y\": 10, \"x\": 6.55, \"font\": {\"color\": \"#000000\"}, \"showarrow\": false}], \"xaxis\": {\"showticklabels\": false, \"tick0\": -0.5, \"ticks\": \"\", \"gridwidth\": 2, \"dtick\": 1, \"zeroline\": false}, \"height\": 380}, {\"linkText\": \"Export to plot.ly\", \"showLink\": true})});</script>"
      ],
      "text/plain": [
       "<IPython.core.display.HTML object>"
      ]
     },
     "metadata": {},
     "output_type": "display_data"
    }
   ],
   "source": [
    "table = ff.create_table(beerMarket.limit(10).toPandas())\n",
    "iplot(table, filename='market_table')"
   ]
  },
  {
   "cell_type": "markdown",
   "metadata": {},
   "source": [
    "# 2. Cheapest beer of the Galaxy ?"
   ]
  },
  {
   "cell_type": "code",
   "execution_count": 18,
   "metadata": {
    "collapsed": false
   },
   "outputs": [
    {
     "data": {
      "text/html": [
       "<div id=\"cf1e03b0-e6c8-4a94-a3b6-36af11ecf92e\" style=\"height: 525px; width: 100%;\" class=\"plotly-graph-div\"></div><script type=\"text/javascript\">require([\"plotly\"], function(Plotly) { window.PLOTLYENV=window.PLOTLYENV || {};window.PLOTLYENV.BASE_URL=\"https://plot.ly\";Plotly.newPlot(\"cf1e03b0-e6c8-4a94-a3b6-36af11ecf92e\", [{\"y\": [20, 25, 32, 34, 34, 37, 38, 39, 40, 42, 43, 43, 44, 45, 45, 45, 45, 45, 46, 47, 47, 49, 49, 49, 49, 50, 51, 51, 51, 51, 51, 51, 51, 51, 51, 51, 51, 52, 52, 52, 52, 52, 52, 52, 52, 52, 52, 52, 52, 53, 53, 53, 53, 53, 53, 53, 53, 53, 53, 53, 53, 53, 53, 53, 53, 53, 53, 53, 53, 53, 53, 54, 54, 54, 55, 55, 55, 55, 55, 55, 55, 56, 56, 56, 56, 56, 56, 56, 56, 56, 56, 56, 56, 56, 56, 56, 56, 56, 56, 57], \"x\": [\"Roentgen Hub\", \"Skiff Port\", \"Skyline High\", \"Chango Dock\", \"RenenBellot Market\", \"Austin Market\", \"Marques Dock\", \"Lubbock Market\", \"Ferguson Dock\", \"Tyson Market\", \"Navigator Market\", \"Corbusier Market\", \"Kaku Station\", \"Kuhn Gateway\", \"Kerr Hub\", \"Cenker City\", \"Veron City\", \"Edison Orbital\", \"Stephan Terminal\", \"Tull Terminal\", \"Grover Port\", \"Whitson Market\", \"Kelly City\", \"Brunel City\", \"Stackpole Market\", \"Frigschneck's Resort\", \"Sturgeon Station\", \"Mukai Market\", \"Hurston Terminal\", \"Borisenko Landing\", \"Anastase Perrotin Orbital\", \"Mitra Estate\", \"Carrier Dock\", \"Shipton Orbital\", \"Feoktistov Orbital\", \"Nakamura Orbital\", \"Aksyonov Orbital\", \"Gohar City\", \"Dummer Dock\", \"Rolland Port\", \"Manarov City\", \"Hoffman Market\", \"Woolley Port\", \"Alex's Rest\", \"Jack E. Stuart Memorial Spaceport\", \"Brongniart Station\", \"Reilly Dock\", \"Checkpoint Brindtopia\", \"Whelan Dock\", \"Meinel Hub\", \"Whitney Station\", \"Herreshoff Market\", \"Roddenberry Gateway\", \"Farrer Colony\", \"Dyson City\", \"Buckland Gateway\", \"Fortress Cousens\", \"Metcalf Station\", \"Tezuka\", \"Mitchell Terminal\", \"Smith Terminal\", \"Baraniecki Hub\", \"Altuna Hub\", \"Alexander Port\", \"Fung Market\", \"Stone Market\", \"Carver City\", \"Clayton Gateway\", \"Borman Terminal\", \"Davies Station\", \"Galvani Terminal\", \"Romanenko Port\", \"Leclerc Ring\", \"Hennen Port\", \"Precourt City\", \"Torricelli Station\", \"Lucretius City\", \"Ziemianski Hub\", \"Amnuel Terminal\", \"Sagan Orbital\", \"Bernard City\", \"Dashiell Orbital\", \"Hardwick Orbital\", \"Nesvadba Orbital\", \"Garnier Station\", \"Hausdorff Hub\", \"Tucker Ring\", \"Holdstock Market\", \"Lee Hub\", \"Collins Station\", \"Oliver Market\", \"Whitney City\", \"Sullivan Ring\", \"Lundmark Ring\", \"Ore Terminal\", \"la Cosa City\", \"Gunn Terminal\", \"Watson Orbital\", \"Cadamosto Market\", \"Mallory Orbital\"], \"type\": \"scatter\", \"name\": \"buy_price\", \"mode\": \"lines\"}], {}, {\"linkText\": \"Export to plot.ly\", \"showLink\": true})});</script>"
      ],
      "text/plain": [
       "<IPython.core.display.HTML object>"
      ]
     },
     "metadata": {},
     "output_type": "display_data"
    }
   ],
   "source": [
    "# 1. filter only prices of stations with supplies\n",
    "# 2. join market prices with commodities and stations\n",
    "# 3. sort by buy price ascending\n",
    "# 4. get only the top 100\n",
    "topCheap = beerMarket\\\n",
    "    .filter(beerMarket.supply > 0)\\\n",
    "    .join(stations, beerMarket.station_id == stations.id)\\\n",
    "    .select(beerMarket.buy_price, stations.name)\\\n",
    "    .sort(beerMarket.buy_price.asc())\\\n",
    "    .limit(100)\n",
    "\n",
    "# plot that\n",
    "df1 = topCheap.toPandas()\n",
    "trace1 = go.Scatter(\n",
    "    x = df1['name'],\n",
    "    y = df1['buy_price'],\n",
    "    mode = 'lines',\n",
    "    name = 'buy_price'\n",
    ")\n",
    "\n",
    "iplot([trace1], filename='beer-buy-price')\n",
    "\n",
    "import os\n",
    "with open(os.getcwd()+\"/../dashboard/widgets/grid-2-1.html\", \"w\") as text_file:\n",
    "    text_file.write(plot([trace1], show_link=False, include_plotlyjs=False, output_type='div'))"
   ]
  },
  {
   "cell_type": "markdown",
   "metadata": {},
   "source": [
    "![](DAG.png)"
   ]
  },
  {
   "cell_type": "code",
   "execution_count": 14,
   "metadata": {
    "collapsed": false
   },
   "outputs": [
    {
     "data": {
      "text/html": [
       "<div id=\"e821552c-df65-4194-8b6c-d76e79cca4c5\" style=\"height: 525px; width: 100%;\" class=\"plotly-graph-div\"></div><script type=\"text/javascript\">require([\"plotly\"], function(Plotly) { window.PLOTLYENV=window.PLOTLYENV || {};window.PLOTLYENV.BASE_URL=\"https://plot.ly\";Plotly.newPlot(\"e821552c-df65-4194-8b6c-d76e79cca4c5\", [{\"y\": [492, 492, 492, 492, 492, 492, 492, 492, 492, 491, 490, 490, 490, 490, 488, 488, 488, 488, 488, 488, 488, 488, 488, 488, 488, 488, 488, 487, 487, 487, 486, 486, 486, 486, 485, 485, 485, 484, 484, 484, 484, 483, 483, 483, 483, 483, 483, 483, 483, 483, 483, 483, 483, 483, 483, 483, 483, 483, 483, 483, 483, 483, 483, 483, 483, 483, 483, 482, 482, 482, 482, 482, 482, 482, 482, 482, 482, 482, 482, 482, 482, 482, 482, 482, 482, 482, 482, 482, 482, 482, 482, 482, 482, 482, 482, 482, 482, 482, 482, 482], \"x\": [\"Nagata Stop\", \"Baker Landing\", \"Bushkov Dock\", \"Furrer Vista\", \"Geoffrey's Crash\", \"Chorel Survey\", \"Starzl Prospect\", \"Reamy Dock\", \"Berezin Terminal\", \"Thomson Orbital\", \"Landis Settlement\", \"Whit's Station\", \"Abel Laboratory\", \"Henson Laboratory\", \"Sylvester Oasis\", \"al-Din Survey\", \"Springer Escape\", \"Thompson Holdings\", \"Reynolds Holdings\", \"Debye Port\", \"Viktorenko Holdings\", \"Hennepin Prospect\", \"Glenn Ring\", \"Bain Colony\", \"Onizuka Oasis\", \"Doi Station\", \"Wheelock Gateway\", \"Smeaton Vision\", \"von Bellingshausen Escape\", \"Kramski Holding\", \"Dunn Installation\", \"Morgan Installation\", \"Aleksandrov Colony\", \"Forsskal Gateway\", \"Adams' Inheritance\", \"Scheerbart Beacon\", \"Cartier Landing\", \"Steinmuller Prospect\", \"Celsius Observatory\", \"Tudela Enterprise\", \"Raleigh Vision\", \"Carr's Inheritance\", \"Mitchell Beacon\", \"Haarsma Terminal\", \"Butcher Forum\", \"Yu Enterprise\", \"Meaney Terminal\", \"Blaylock's Progress\", \"Brunel Depot\", \"Altshuller Base\", \"Malchiodi Base\", \"Bulychev Laboratory\", \"Bailey Plant\", \"Lewitt Installation\", \"McMullen Point\", \"Oltion Terminal\", \"Gunn Base\", \"Readdy Orbital\", \"Alvarado Holdings\", \"Ziljak Prospect\", \"Grigson Terminal\", \"Schmitz Laboratory\", \"Frobenius' Progress\", \"Nikolayev Terminal\", \"Evans Horizons\", \"Phillips Holdings\", \"Grabe Gateway\", \"Erdos Relay\", \"Lasswitz Mines\", \"Yegorov Point\", \"Bergerac Mines\", \"Galvani Mines\", \"Nourse Legacy\", \"Ings Camp\", \"Barnes Retreat\", \"Berezovoy Mines\", \"Wandrei's Claim\", \"Al Saud Stop\", \"Locke's Claim\", \"Sinclair's Claim\", \"Eskridge Asylum\", \"Hackworth Mine\", \"Porges Platform\", \"Britnev's Folly\", \"Vogel Colony\", \"Dickson Refinery\", \"Chiang Port\", \"Archimedes Outpost\", \"Kirtley Sanctuary\", \"Webb Port\", \"Morin Point\", \"Guerrero's Pride\", \"Svavarsson Survey\", \"Parsons Reach\", \"Yolen Colony\", \"Deluc Survey\", \"Xing Platform\", \"Polansky Platform\", \"Blair's Folly\", \"Macquorn Rankine Camp\"], \"type\": \"scatter\", \"name\": \"sell_price\", \"mode\": \"lines\"}], {}, {\"linkText\": \"Export to plot.ly\", \"showLink\": true})});</script>"
      ],
      "text/plain": [
       "<IPython.core.display.HTML object>"
      ]
     },
     "metadata": {},
     "output_type": "display_data"
    }
   ],
   "source": [
    "# same thing, but to find the best sell price\n",
    "topSell = beerMarket\\\n",
    "    .filter(beerMarket.demand > 0)\\\n",
    "    .join(stations, beerMarket.station_id == stations.id)\\\n",
    "    .select(beerMarket.sell_price, stations.name)\\\n",
    "    .sort(beerMarket.sell_price.desc())\\\n",
    "    .limit(100)\n",
    "\n",
    "# plot that\n",
    "df2 = topSell.toPandas()\n",
    "trace2 = go.Scatter(\n",
    "    x = df2['name'],\n",
    "    y = df2['sell_price'],\n",
    "    mode = 'lines',\n",
    "    name = 'sell_price'\n",
    ")\n",
    "\n",
    "iplot([trace2], filename='beer-sell-price')\n",
    "\n",
    "import os\n",
    "with open(os.getcwd()+\"/../dashboard/widgets/grid-2-2.html\", \"w\") as text_file:\n",
    "    text_file.write(plot([trace2], show_link=False, include_plotlyjs=False, output_type='div'))"
   ]
  },
  {
   "cell_type": "markdown",
   "metadata": {},
   "source": [
    "# 2. Objectif: Anaconda... comment farmer ?\n",
    "\n",
    "![](Galnet-anaconda.jpg)\n",
    "\n",
    "![](Anaconda-BluePrint.png)\n",
    "\n",
    "Comment financer l'achat de ce vaiseau ??\n",
    "\n",
    "On va \"farmer\" de la bière..."
   ]
  },
  {
   "cell_type": "code",
   "execution_count": 15,
   "metadata": {
    "collapsed": false,
    "scrolled": true
   },
   "outputs": [],
   "source": [
    "from pyspark.sql.functions import udf, col\n",
    "from pyspark.sql.types import IntegerType\n",
    "\n",
    "# Bid\n",
    "buy = beerMarket\\\n",
    "    .filter(beerMarket.supply > 0)\\\n",
    "    .repartition(5)\\\n",
    "    .alias(\"buy\")\n",
    "\n",
    "# Ask\n",
    "sell = beerMarket\\\n",
    "    .filter(beerMarket.demand > 0)\\\n",
    "    .repartition(5)\\\n",
    "    .alias(\"sell\")\n",
    "    \n",
    "computeProfit = udf(lambda supply, buy, demand, sell: min(demand, supply) * (sell - buy), IntegerType())\n",
    "    \n",
    "# compute profits between stations\n",
    "profit = buy.join(sell)\\\n",
    "    .select(computeProfit(col(\"buy.supply\"), col(\"buy.buy_price\"), col(\"sell.demand\"), col(\"sell.sell_price\")).alias(\"profit\"), \n",
    "            col(\"buy.station_id\").alias(\"buy_station_id\"), \n",
    "            col(\"sell.station_id\").alias(\"sell_station_id\"))\\\n",
    "    .filter(col(\"profit\") > 0)\n",
    "    \n",
    "# save the result as files\n",
    "#profit.write.mode(\"overwrite\").parquet(\"profit.parquet1\")"
   ]
  },
  {
   "cell_type": "markdown",
   "metadata": {},
   "source": [
    "![](DAG2.png)\n",
    "\n",
    "![](Parquet.png)"
   ]
  },
  {
   "cell_type": "code",
   "execution_count": 16,
   "metadata": {
    "collapsed": false
   },
   "outputs": [
    {
     "data": {
      "text/html": [
       "<div id=\"8705bca3-71e8-4d37-9997-c07580e9d208\" style=\"height: 380px; width: 100%;\" class=\"plotly-graph-div\"></div><script type=\"text/javascript\">require([\"plotly\"], function(Plotly) { window.PLOTLYENV=window.PLOTLYENV || {};window.PLOTLYENV.BASE_URL=\"https://plot.ly\";Plotly.newPlot(\"8705bca3-71e8-4d37-9997-c07580e9d208\", [{\"opacity\": 0.75, \"colorscale\": [[0, \"#00083e\"], [0.5, \"#ededee\"], [1, \"#ffffff\"]], \"showscale\": false, \"hoverinfo\": \"none\", \"z\": [[0, 0], [0.5, 0.5], [1, 1], [0.5, 0.5], [1, 1], [0.5, 0.5], [1, 1], [0.5, 0.5], [1, 1], [0.5, 0.5], [1, 1]], \"type\": \"heatmap\"}], {\"yaxis\": {\"showticklabels\": false, \"tick0\": 0.5, \"ticks\": \"\", \"gridwidth\": 2, \"dtick\": 1, \"zeroline\": false, \"autorange\": \"reversed\"}, \"margin\": {\"r\": 0, \"b\": 0, \"l\": 0, \"t\": 0}, \"annotations\": [{\"xref\": \"x1\", \"xanchor\": \"left\", \"yref\": \"y1\", \"text\": \"<b>profit</b>\", \"align\": \"left\", \"y\": 0, \"x\": -0.45, \"font\": {\"color\": \"#ffffff\"}, \"showarrow\": false}, {\"xref\": \"x1\", \"xanchor\": \"left\", \"yref\": \"y1\", \"text\": \"<b>stations</b>\", \"align\": \"left\", \"y\": 0, \"x\": 0.55, \"font\": {\"color\": \"#ffffff\"}, \"showarrow\": false}, {\"xref\": \"x1\", \"xanchor\": \"left\", \"yref\": \"y1\", \"text\": \"1028424852\", \"align\": \"left\", \"y\": 1, \"x\": -0.45, \"font\": {\"color\": \"#000000\"}, \"showarrow\": false}, {\"xref\": \"x1\", \"xanchor\": \"left\", \"yref\": \"y1\", \"text\": \"Nicollier Ring <-> Kidman Ring\", \"align\": \"left\", \"y\": 1, \"x\": 0.55, \"font\": {\"color\": \"#000000\"}, \"showarrow\": false}, {\"xref\": \"x1\", \"xanchor\": \"left\", \"yref\": \"y1\", \"text\": \"1000534080\", \"align\": \"left\", \"y\": 2, \"x\": -0.45, \"font\": {\"color\": \"#000000\"}, \"showarrow\": false}, {\"xref\": \"x1\", \"xanchor\": \"left\", \"yref\": \"y1\", \"text\": \"Nicollier Ring <-> Schwann Port\", \"align\": \"left\", \"y\": 2, \"x\": 0.55, \"font\": {\"color\": \"#000000\"}, \"showarrow\": false}, {\"xref\": \"x1\", \"xanchor\": \"left\", \"yref\": \"y1\", \"text\": \"1000171422\", \"align\": \"left\", \"y\": 3, \"x\": -0.45, \"font\": {\"color\": \"#000000\"}, \"showarrow\": false}, {\"xref\": \"x1\", \"xanchor\": \"left\", \"yref\": \"y1\", \"text\": \"Nicollier Ring <-> Shavyrin Terminal\", \"align\": \"left\", \"y\": 3, \"x\": 0.55, \"font\": {\"color\": \"#000000\"}, \"showarrow\": false}, {\"xref\": \"x1\", \"xanchor\": \"left\", \"yref\": \"y1\", \"text\": \"1000171422\", \"align\": \"left\", \"y\": 4, \"x\": -0.45, \"font\": {\"color\": \"#000000\"}, \"showarrow\": false}, {\"xref\": \"x1\", \"xanchor\": \"left\", \"yref\": \"y1\", \"text\": \"Nicollier Ring <-> Reber Hub\", \"align\": \"left\", \"y\": 4, \"x\": 0.55, \"font\": {\"color\": \"#000000\"}, \"showarrow\": false}, {\"xref\": \"x1\", \"xanchor\": \"left\", \"yref\": \"y1\", \"text\": \"999612432\", \"align\": \"left\", \"y\": 5, \"x\": -0.45, \"font\": {\"color\": \"#000000\"}, \"showarrow\": false}, {\"xref\": \"x1\", \"xanchor\": \"left\", \"yref\": \"y1\", \"text\": \"Kroehl Station <-> Schwann Port\", \"align\": \"left\", \"y\": 5, \"x\": 0.55, \"font\": {\"color\": \"#000000\"}, \"showarrow\": false}, {\"xref\": \"x1\", \"xanchor\": \"left\", \"yref\": \"y1\", \"text\": \"999612432\", \"align\": \"left\", \"y\": 6, \"x\": -0.45, \"font\": {\"color\": \"#000000\"}, \"showarrow\": false}, {\"xref\": \"x1\", \"xanchor\": \"left\", \"yref\": \"y1\", \"text\": \"Kroehl Station <-> Kidman Ring\", \"align\": \"left\", \"y\": 6, \"x\": 0.55, \"font\": {\"color\": \"#000000\"}, \"showarrow\": false}, {\"xref\": \"x1\", \"xanchor\": \"left\", \"yref\": \"y1\", \"text\": \"972150552\", \"align\": \"left\", \"y\": 7, \"x\": -0.45, \"font\": {\"color\": \"#000000\"}, \"showarrow\": false}, {\"xref\": \"x1\", \"xanchor\": \"left\", \"yref\": \"y1\", \"text\": \"Kroehl Station <-> Shavyrin Terminal\", \"align\": \"left\", \"y\": 7, \"x\": 0.55, \"font\": {\"color\": \"#000000\"}, \"showarrow\": false}, {\"xref\": \"x1\", \"xanchor\": \"left\", \"yref\": \"y1\", \"text\": \"972150552\", \"align\": \"left\", \"y\": 8, \"x\": -0.45, \"font\": {\"color\": \"#000000\"}, \"showarrow\": false}, {\"xref\": \"x1\", \"xanchor\": \"left\", \"yref\": \"y1\", \"text\": \"Kroehl Station <-> Reber Hub\", \"align\": \"left\", \"y\": 8, \"x\": 0.55, \"font\": {\"color\": \"#000000\"}, \"showarrow\": false}, {\"xref\": \"x1\", \"xanchor\": \"left\", \"yref\": \"y1\", \"text\": \"968450392\", \"align\": \"left\", \"y\": 9, \"x\": -0.45, \"font\": {\"color\": \"#000000\"}, \"showarrow\": false}, {\"xref\": \"x1\", \"xanchor\": \"left\", \"yref\": \"y1\", \"text\": \"Amundsen City <-> Schwann Port\", \"align\": \"left\", \"y\": 9, \"x\": 0.55, \"font\": {\"color\": \"#000000\"}, \"showarrow\": false}, {\"xref\": \"x1\", \"xanchor\": \"left\", \"yref\": \"y1\", \"text\": \"968450392\", \"align\": \"left\", \"y\": 10, \"x\": -0.45, \"font\": {\"color\": \"#000000\"}, \"showarrow\": false}, {\"xref\": \"x1\", \"xanchor\": \"left\", \"yref\": \"y1\", \"text\": \"Amundsen City <-> Kidman Ring\", \"align\": \"left\", \"y\": 10, \"x\": 0.55, \"font\": {\"color\": \"#000000\"}, \"showarrow\": false}], \"xaxis\": {\"showticklabels\": false, \"tick0\": -0.5, \"ticks\": \"\", \"gridwidth\": 2, \"dtick\": 1, \"zeroline\": false}, \"height\": 380}, {\"linkText\": \"Export to plot.ly\", \"showLink\": true})});</script>"
      ],
      "text/plain": [
       "<IPython.core.display.HTML object>"
      ]
     },
     "metadata": {},
     "output_type": "display_data"
    }
   ],
   "source": [
    "from pyspark.sql.functions import col, concat, concat_ws\n",
    "\n",
    "# Get the stations\n",
    "buy_stations = stations.alias(\"buy_station\")\n",
    "sell_stations = stations.alias(\"sell_station\")\n",
    "\n",
    "# Get top 10 profit between stations\n",
    "profitParquet = sqlContext.read.parquet(\"profit.parquet\")\n",
    "\n",
    "df = profitParquet\\\n",
    "    .sort(profitParquet.profit.desc())\\\n",
    "    .limit(10)\\\n",
    "    .join(buy_stations, profitParquet.buy_station_id == col(\"buy_station.id\"))\\\n",
    "    .join(sell_stations, profitParquet.sell_station_id == col(\"sell_station.id\"))\\\n",
    "    .select(profitParquet.profit, concat_ws(\" <-> \", col(\"buy_station.name\"), col(\"sell_station.name\")).alias(\"stations\"))\\\n",
    "    .toPandas()\n",
    "\n",
    "table = ff.create_table(df.sort_values(by=['profit'], ascending=[0]))\n",
    "iplot(table, filename='profit_table')"
   ]
  },
  {
   "cell_type": "code",
   "execution_count": null,
   "metadata": {
    "collapsed": true
   },
   "outputs": [],
   "source": []
  }
 ],
 "metadata": {
  "kernelspec": {
   "display_name": "PySpark",
   "language": "python",
   "name": "pysparkkernel"
  },
  "language_info": {
   "codemirror_mode": {
    "name": "ipython",
    "version": 2
   },
   "file_extension": ".py",
   "mimetype": "text/x-python",
   "name": "python",
   "nbconvert_exporter": "python",
   "pygments_lexer": "ipython2",
   "version": "2.7.13"
  }
 },
 "nbformat": 4,
 "nbformat_minor": 2
}
